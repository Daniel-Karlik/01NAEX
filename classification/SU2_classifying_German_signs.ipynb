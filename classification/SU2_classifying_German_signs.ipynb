{
  "nbformat": 4,
  "nbformat_minor": 0,
  "metadata": {
    "colab": {
      "provenance": [],
      "authorship_tag": "ABX9TyPYf/WkWrRfsbQDarcKGEqs",
      "include_colab_link": true
    },
    "kernelspec": {
      "name": "python3",
      "display_name": "Python 3"
    },
    "language_info": {
      "name": "python"
    },
    "gpuClass": "standard",
    "accelerator": "GPU",
    "widgets": {
      "application/vnd.jupyter.widget-state+json": {
        "a82c97ae67cd494abb76ad8e68d625bf": {
          "model_module": "@jupyter-widgets/controls",
          "model_name": "HBoxModel",
          "model_module_version": "1.5.0",
          "state": {
            "_dom_classes": [],
            "_model_module": "@jupyter-widgets/controls",
            "_model_module_version": "1.5.0",
            "_model_name": "HBoxModel",
            "_view_count": null,
            "_view_module": "@jupyter-widgets/controls",
            "_view_module_version": "1.5.0",
            "_view_name": "HBoxView",
            "box_style": "",
            "children": [
              "IPY_MODEL_27445f084cf5429da85b1a335a92bdd1",
              "IPY_MODEL_f4a4dc78501246a8932efa5313b0b9b2",
              "IPY_MODEL_7b63fcc7071744a78948df7aa7ff05dc"
            ],
            "layout": "IPY_MODEL_c7d710ac3b574008bb2d80f280e874ca"
          }
        },
        "27445f084cf5429da85b1a335a92bdd1": {
          "model_module": "@jupyter-widgets/controls",
          "model_name": "HTMLModel",
          "model_module_version": "1.5.0",
          "state": {
            "_dom_classes": [],
            "_model_module": "@jupyter-widgets/controls",
            "_model_module_version": "1.5.0",
            "_model_name": "HTMLModel",
            "_view_count": null,
            "_view_module": "@jupyter-widgets/controls",
            "_view_module_version": "1.5.0",
            "_view_name": "HTMLView",
            "description": "",
            "description_tooltip": null,
            "layout": "IPY_MODEL_838f533bed064d03b367808188d8baaa",
            "placeholder": "​",
            "style": "IPY_MODEL_6f98a1f9315d4133bf0b0c541da4b951",
            "value": "100%"
          }
        },
        "f4a4dc78501246a8932efa5313b0b9b2": {
          "model_module": "@jupyter-widgets/controls",
          "model_name": "FloatProgressModel",
          "model_module_version": "1.5.0",
          "state": {
            "_dom_classes": [],
            "_model_module": "@jupyter-widgets/controls",
            "_model_module_version": "1.5.0",
            "_model_name": "FloatProgressModel",
            "_view_count": null,
            "_view_module": "@jupyter-widgets/controls",
            "_view_module_version": "1.5.0",
            "_view_name": "ProgressView",
            "bar_style": "success",
            "description": "",
            "description_tooltip": null,
            "layout": "IPY_MODEL_4885ea665b26473a86eddd0f20b49e40",
            "max": 4958839,
            "min": 0,
            "orientation": "horizontal",
            "style": "IPY_MODEL_82a363ca87a84840a1bccb20f1f965d7",
            "value": 4958839
          }
        },
        "7b63fcc7071744a78948df7aa7ff05dc": {
          "model_module": "@jupyter-widgets/controls",
          "model_name": "HTMLModel",
          "model_module_version": "1.5.0",
          "state": {
            "_dom_classes": [],
            "_model_module": "@jupyter-widgets/controls",
            "_model_module_version": "1.5.0",
            "_model_name": "HTMLModel",
            "_view_count": null,
            "_view_module": "@jupyter-widgets/controls",
            "_view_module_version": "1.5.0",
            "_view_name": "HTMLView",
            "description": "",
            "description_tooltip": null,
            "layout": "IPY_MODEL_7362df04801642e5b970116a0cb00df2",
            "placeholder": "​",
            "style": "IPY_MODEL_be15116da7234da99a965898ea7cda25",
            "value": " 4.73M/4.73M [00:04&lt;00:00, 1.47MB/s]"
          }
        },
        "c7d710ac3b574008bb2d80f280e874ca": {
          "model_module": "@jupyter-widgets/base",
          "model_name": "LayoutModel",
          "model_module_version": "1.2.0",
          "state": {
            "_model_module": "@jupyter-widgets/base",
            "_model_module_version": "1.2.0",
            "_model_name": "LayoutModel",
            "_view_count": null,
            "_view_module": "@jupyter-widgets/base",
            "_view_module_version": "1.2.0",
            "_view_name": "LayoutView",
            "align_content": null,
            "align_items": null,
            "align_self": null,
            "border": null,
            "bottom": null,
            "display": null,
            "flex": null,
            "flex_flow": null,
            "grid_area": null,
            "grid_auto_columns": null,
            "grid_auto_flow": null,
            "grid_auto_rows": null,
            "grid_column": null,
            "grid_gap": null,
            "grid_row": null,
            "grid_template_areas": null,
            "grid_template_columns": null,
            "grid_template_rows": null,
            "height": null,
            "justify_content": null,
            "justify_items": null,
            "left": null,
            "margin": null,
            "max_height": null,
            "max_width": null,
            "min_height": null,
            "min_width": null,
            "object_fit": null,
            "object_position": null,
            "order": null,
            "overflow": null,
            "overflow_x": null,
            "overflow_y": null,
            "padding": null,
            "right": null,
            "top": null,
            "visibility": null,
            "width": null
          }
        },
        "838f533bed064d03b367808188d8baaa": {
          "model_module": "@jupyter-widgets/base",
          "model_name": "LayoutModel",
          "model_module_version": "1.2.0",
          "state": {
            "_model_module": "@jupyter-widgets/base",
            "_model_module_version": "1.2.0",
            "_model_name": "LayoutModel",
            "_view_count": null,
            "_view_module": "@jupyter-widgets/base",
            "_view_module_version": "1.2.0",
            "_view_name": "LayoutView",
            "align_content": null,
            "align_items": null,
            "align_self": null,
            "border": null,
            "bottom": null,
            "display": null,
            "flex": null,
            "flex_flow": null,
            "grid_area": null,
            "grid_auto_columns": null,
            "grid_auto_flow": null,
            "grid_auto_rows": null,
            "grid_column": null,
            "grid_gap": null,
            "grid_row": null,
            "grid_template_areas": null,
            "grid_template_columns": null,
            "grid_template_rows": null,
            "height": null,
            "justify_content": null,
            "justify_items": null,
            "left": null,
            "margin": null,
            "max_height": null,
            "max_width": null,
            "min_height": null,
            "min_width": null,
            "object_fit": null,
            "object_position": null,
            "order": null,
            "overflow": null,
            "overflow_x": null,
            "overflow_y": null,
            "padding": null,
            "right": null,
            "top": null,
            "visibility": null,
            "width": null
          }
        },
        "6f98a1f9315d4133bf0b0c541da4b951": {
          "model_module": "@jupyter-widgets/controls",
          "model_name": "DescriptionStyleModel",
          "model_module_version": "1.5.0",
          "state": {
            "_model_module": "@jupyter-widgets/controls",
            "_model_module_version": "1.5.0",
            "_model_name": "DescriptionStyleModel",
            "_view_count": null,
            "_view_module": "@jupyter-widgets/base",
            "_view_module_version": "1.2.0",
            "_view_name": "StyleView",
            "description_width": ""
          }
        },
        "4885ea665b26473a86eddd0f20b49e40": {
          "model_module": "@jupyter-widgets/base",
          "model_name": "LayoutModel",
          "model_module_version": "1.2.0",
          "state": {
            "_model_module": "@jupyter-widgets/base",
            "_model_module_version": "1.2.0",
            "_model_name": "LayoutModel",
            "_view_count": null,
            "_view_module": "@jupyter-widgets/base",
            "_view_module_version": "1.2.0",
            "_view_name": "LayoutView",
            "align_content": null,
            "align_items": null,
            "align_self": null,
            "border": null,
            "bottom": null,
            "display": null,
            "flex": null,
            "flex_flow": null,
            "grid_area": null,
            "grid_auto_columns": null,
            "grid_auto_flow": null,
            "grid_auto_rows": null,
            "grid_column": null,
            "grid_gap": null,
            "grid_row": null,
            "grid_template_areas": null,
            "grid_template_columns": null,
            "grid_template_rows": null,
            "height": null,
            "justify_content": null,
            "justify_items": null,
            "left": null,
            "margin": null,
            "max_height": null,
            "max_width": null,
            "min_height": null,
            "min_width": null,
            "object_fit": null,
            "object_position": null,
            "order": null,
            "overflow": null,
            "overflow_x": null,
            "overflow_y": null,
            "padding": null,
            "right": null,
            "top": null,
            "visibility": null,
            "width": null
          }
        },
        "82a363ca87a84840a1bccb20f1f965d7": {
          "model_module": "@jupyter-widgets/controls",
          "model_name": "ProgressStyleModel",
          "model_module_version": "1.5.0",
          "state": {
            "_model_module": "@jupyter-widgets/controls",
            "_model_module_version": "1.5.0",
            "_model_name": "ProgressStyleModel",
            "_view_count": null,
            "_view_module": "@jupyter-widgets/base",
            "_view_module_version": "1.2.0",
            "_view_name": "StyleView",
            "bar_color": null,
            "description_width": ""
          }
        },
        "7362df04801642e5b970116a0cb00df2": {
          "model_module": "@jupyter-widgets/base",
          "model_name": "LayoutModel",
          "model_module_version": "1.2.0",
          "state": {
            "_model_module": "@jupyter-widgets/base",
            "_model_module_version": "1.2.0",
            "_model_name": "LayoutModel",
            "_view_count": null,
            "_view_module": "@jupyter-widgets/base",
            "_view_module_version": "1.2.0",
            "_view_name": "LayoutView",
            "align_content": null,
            "align_items": null,
            "align_self": null,
            "border": null,
            "bottom": null,
            "display": null,
            "flex": null,
            "flex_flow": null,
            "grid_area": null,
            "grid_auto_columns": null,
            "grid_auto_flow": null,
            "grid_auto_rows": null,
            "grid_column": null,
            "grid_gap": null,
            "grid_row": null,
            "grid_template_areas": null,
            "grid_template_columns": null,
            "grid_template_rows": null,
            "height": null,
            "justify_content": null,
            "justify_items": null,
            "left": null,
            "margin": null,
            "max_height": null,
            "max_width": null,
            "min_height": null,
            "min_width": null,
            "object_fit": null,
            "object_position": null,
            "order": null,
            "overflow": null,
            "overflow_x": null,
            "overflow_y": null,
            "padding": null,
            "right": null,
            "top": null,
            "visibility": null,
            "width": null
          }
        },
        "be15116da7234da99a965898ea7cda25": {
          "model_module": "@jupyter-widgets/controls",
          "model_name": "DescriptionStyleModel",
          "model_module_version": "1.5.0",
          "state": {
            "_model_module": "@jupyter-widgets/controls",
            "_model_module_version": "1.5.0",
            "_model_name": "DescriptionStyleModel",
            "_view_count": null,
            "_view_module": "@jupyter-widgets/base",
            "_view_module_version": "1.2.0",
            "_view_name": "StyleView",
            "description_width": ""
          }
        }
      }
    }
  },
  "cells": [
    {
      "cell_type": "markdown",
      "metadata": {
        "id": "view-in-github",
        "colab_type": "text"
      },
      "source": [
        "<a href=\"https://colab.research.google.com/github/Daniel-Karlik/01NAEX/blob/main/classification/SU2_classifying_German_signs.ipynb\" target=\"_parent\"><img src=\"https://colab.research.google.com/assets/colab-badge.svg\" alt=\"Open In Colab\"/></a>"
      ]
    },
    {
      "cell_type": "markdown",
      "source": [
        "# This notebooks deals with pretraining image classification for german traffic signs"
      ],
      "metadata": {
        "id": "hioYQmk9xmcV"
      }
    },
    {
      "cell_type": "markdown",
      "source": [
        "## Loading German traffic sign dataset from kaggle"
      ],
      "metadata": {
        "id": "RU1xvyh2xdIB"
      }
    },
    {
      "cell_type": "code",
      "source": [
        "! pip install kaggle"
      ],
      "metadata": {
        "colab": {
          "base_uri": "https://localhost:8080/"
        },
        "id": "_Ejp6ciQWNwL",
        "outputId": "527430a1-9f54-45ab-9ce4-76ccdacd1411"
      },
      "execution_count": 1,
      "outputs": [
        {
          "output_type": "stream",
          "name": "stdout",
          "text": [
            "Looking in indexes: https://pypi.org/simple, https://us-python.pkg.dev/colab-wheels/public/simple/\n",
            "Requirement already satisfied: kaggle in /usr/local/lib/python3.8/dist-packages (1.5.12)\n",
            "Requirement already satisfied: python-dateutil in /usr/local/lib/python3.8/dist-packages (from kaggle) (2.8.2)\n",
            "Requirement already satisfied: urllib3 in /usr/local/lib/python3.8/dist-packages (from kaggle) (1.24.3)\n",
            "Requirement already satisfied: six>=1.10 in /usr/local/lib/python3.8/dist-packages (from kaggle) (1.15.0)\n",
            "Requirement already satisfied: python-slugify in /usr/local/lib/python3.8/dist-packages (from kaggle) (7.0.0)\n",
            "Requirement already satisfied: requests in /usr/local/lib/python3.8/dist-packages (from kaggle) (2.23.0)\n",
            "Requirement already satisfied: tqdm in /usr/local/lib/python3.8/dist-packages (from kaggle) (4.64.1)\n",
            "Requirement already satisfied: certifi in /usr/local/lib/python3.8/dist-packages (from kaggle) (2022.12.7)\n",
            "Requirement already satisfied: text-unidecode>=1.3 in /usr/local/lib/python3.8/dist-packages (from python-slugify->kaggle) (1.3)\n",
            "Requirement already satisfied: idna<3,>=2.5 in /usr/local/lib/python3.8/dist-packages (from requests->kaggle) (2.10)\n",
            "Requirement already satisfied: chardet<4,>=3.0.2 in /usr/local/lib/python3.8/dist-packages (from requests->kaggle) (3.0.4)\n"
          ]
        }
      ]
    },
    {
      "cell_type": "code",
      "source": [
        "! mkdir ~/.kaggle"
      ],
      "metadata": {
        "id": "ycJ55htgWOyO"
      },
      "execution_count": 2,
      "outputs": []
    },
    {
      "cell_type": "code",
      "source": [
        "! cp kaggle.json ~/.kaggle/"
      ],
      "metadata": {
        "id": "_k2bBum6WazO"
      },
      "execution_count": 3,
      "outputs": []
    },
    {
      "cell_type": "code",
      "source": [
        "! chmod 600 ~/.kaggle/kaggle.json"
      ],
      "metadata": {
        "id": "k3UCR5emWdkP"
      },
      "execution_count": 4,
      "outputs": []
    },
    {
      "cell_type": "code",
      "source": [
        "! kaggle datasets download -d meowmeowmeowmeowmeow/gtsrb-german-traffic-sign"
      ],
      "metadata": {
        "colab": {
          "base_uri": "https://localhost:8080/"
        },
        "id": "dz4_kECkWghM",
        "outputId": "b142b991-d6a0-4882-8ef0-a0a8aa0ef58d"
      },
      "execution_count": 5,
      "outputs": [
        {
          "output_type": "stream",
          "name": "stdout",
          "text": [
            "Downloading gtsrb-german-traffic-sign.zip to /content\n",
            "100% 612M/612M [00:27<00:00, 25.4MB/s]\n",
            "100% 612M/612M [00:27<00:00, 23.4MB/s]\n"
          ]
        }
      ]
    },
    {
      "cell_type": "code",
      "source": [
        "%%capture\n",
        "! unzip gtsrb-german-traffic-sign.zip"
      ],
      "metadata": {
        "id": "5K_P7jSoXgTJ"
      },
      "execution_count": 6,
      "outputs": []
    },
    {
      "cell_type": "code",
      "source": [
        "import numpy as np\n",
        "import pandas as pd \n",
        "import torch\n",
        "from torch import optim\n",
        "import torch.nn as nn\n",
        "from PIL import Image"
      ],
      "metadata": {
        "id": "gLCDNxiYx0vE"
      },
      "execution_count": 7,
      "outputs": []
    },
    {
      "cell_type": "code",
      "execution_count": 8,
      "metadata": {
        "execution": {
          "iopub.execute_input": "2022-12-24T09:30:51.403009Z",
          "iopub.status.busy": "2022-12-24T09:30:51.402715Z",
          "iopub.status.idle": "2022-12-24T09:30:51.410614Z",
          "shell.execute_reply": "2022-12-24T09:30:51.409776Z"
        },
        "papermill": {
          "duration": 0.015856,
          "end_time": "2022-12-24T09:30:51.412638",
          "exception": false,
          "start_time": "2022-12-24T09:30:51.396782",
          "status": "completed"
        },
        "tags": [],
        "id": "d3dc2f9a"
      },
      "outputs": [],
      "source": [
        "classes_names = { 0:'Speed limit (20km/h)',\n",
        "            1:'Speed limit (30km/h)', \n",
        "            2:'Speed limit (50km/h)', \n",
        "            3:'Speed limit (60km/h)', \n",
        "            4:'Speed limit (70km/h)', \n",
        "            5:'Speed limit (80km/h)', \n",
        "            6:'End of speed limit (80km/h)', \n",
        "            7:'Speed limit (100km/h)', \n",
        "            8:'Speed limit (120km/h)', \n",
        "            9:'No passing', \n",
        "            10:'No passing veh over 3.5 tons', \n",
        "            11:'Right-of-way at intersection', \n",
        "            12:'Priority road', \n",
        "            13:'Yield', \n",
        "            14:'Stop', \n",
        "            15:'No vehicles', \n",
        "            16:'Veh > 3.5 tons prohibited', \n",
        "            17:'No entry', \n",
        "            18:'General caution', \n",
        "            19:'Dangerous curve left', \n",
        "            20:'Dangerous curve right', \n",
        "            21:'Double curve', \n",
        "            22:'Bumpy road', \n",
        "            23:'Slippery road', \n",
        "            24:'Road narrows on the right', \n",
        "            25:'Road work', \n",
        "            26:'Traffic signals', \n",
        "            27:'Pedestrians', \n",
        "            28:'Children crossing', \n",
        "            29:'Bicycles crossing', \n",
        "            30:'Beware of ice/snow',\n",
        "            31:'Wild animals crossing', \n",
        "            32:'End speed + passing limits', \n",
        "            33:'Turn right ahead', \n",
        "            34:'Turn left ahead', \n",
        "            35:'Ahead only', \n",
        "            36:'Go straight or right', \n",
        "            37:'Go straight or left', \n",
        "            38:'Keep right', \n",
        "            39:'Keep left', \n",
        "            40:'Roundabout mandatory', \n",
        "            41:'End of no passing', \n",
        "            42:'End no passing veh > 3.5 tons' }"
      ]
    },
    {
      "cell_type": "code",
      "source": [
        "df_train = pd.read_csv('/content/Train.csv', sep=',', delimiter=None, encoding=\"utf8\")\n",
        "\n",
        "print(df_train.sample(10))"
      ],
      "metadata": {
        "colab": {
          "base_uri": "https://localhost:8080/"
        },
        "id": "jgh5LA1lzD3z",
        "outputId": "5217f084-f696-4351-cd75-14dd8a0f4f9a"
      },
      "execution_count": 9,
      "outputs": [
        {
          "output_type": "stream",
          "name": "stdout",
          "text": [
            "       Width  Height  Roi.X1  Roi.Y1  Roi.X2  Roi.Y2  ClassId  \\\n",
            "25204     37      39       5       6      32      33       17   \n",
            "15557     40      41       5       6      35      36       10   \n",
            "33755     27      28       5       6      22      23       33   \n",
            "253       36      36       6       6      31      31       20   \n",
            "31747     43      41       5       6      38      36       30   \n",
            "2027      45      46       5       6      40      41        1   \n",
            "35579     29      30       5       6      24      25       36   \n",
            "8528      30      29       5       5      25      24        5   \n",
            "31475     38      38       5       5      33      33       29   \n",
            "21664     35      33       6       6      30      28       13   \n",
            "\n",
            "                                 Path  \n",
            "25204  Train/17/00017_00025_00004.png  \n",
            "15557  Train/10/00010_00017_00017.png  \n",
            "33755  Train/33/00033_00022_00006.png  \n",
            "253    Train/20/00020_00008_00013.png  \n",
            "31747  Train/30/00030_00004_00007.png  \n",
            "2027    Train/1/00001_00048_00017.png  \n",
            "35579  Train/36/00036_00006_00000.png  \n",
            "8528    Train/5/00005_00003_00008.png  \n",
            "31475  Train/29/00029_00004_00005.png  \n",
            "21664  Train/13/00013_00040_00004.png  \n"
          ]
        }
      ]
    },
    {
      "cell_type": "code",
      "source": [
        "df_train['Path'] = '/content/' + df_train['Path'].astype(str)"
      ],
      "metadata": {
        "id": "kJeABdhSzky9"
      },
      "execution_count": 10,
      "outputs": []
    },
    {
      "cell_type": "code",
      "source": [
        "print(df_train.sample(10))"
      ],
      "metadata": {
        "colab": {
          "base_uri": "https://localhost:8080/"
        },
        "id": "si3zod910mJd",
        "outputId": "3b7f1b87-357f-42dd-bb00-aded76053fdf"
      },
      "execution_count": 11,
      "outputs": [
        {
          "output_type": "stream",
          "name": "stdout",
          "text": [
            "       Width  Height  Roi.X1  Roi.Y1  Roi.X2  Roi.Y2  ClassId  \\\n",
            "38788     81      84       7       8      74      77       41   \n",
            "7761      52      51       6       5      47      46        4   \n",
            "20385     46      45       5       5      41      40       12   \n",
            "33342     58      58       6       5      53      53       33   \n",
            "18768     41      40       6       5      36      35       12   \n",
            "18953     72      69       7       6      66      63       12   \n",
            "36526     45      44       6       5      40      39       38   \n",
            "15134     36      38       5       6      30      32       10   \n",
            "13677     62      60       5       5      57      55        9   \n",
            "2508      43      43       5       5      38      38        1   \n",
            "\n",
            "                                          Path  \n",
            "38788  /content/Train/41/00041_00001_00029.png  \n",
            "7761    /content/Train/4/00004_00043_00021.png  \n",
            "20385  /content/Train/12/00012_00067_00015.png  \n",
            "33342  /content/Train/33/00033_00008_00012.png  \n",
            "18768  /content/Train/12/00012_00013_00018.png  \n",
            "18953  /content/Train/12/00012_00019_00023.png  \n",
            "36526  /content/Train/38/00038_00017_00017.png  \n",
            "15134  /content/Train/10/00010_00003_00014.png  \n",
            "13677   /content/Train/9/00009_00003_00027.png  \n",
            "2508    /content/Train/1/00001_00064_00018.png  \n"
          ]
        }
      ]
    },
    {
      "cell_type": "code",
      "source": [
        "df2 = df_train[['ClassId', 'Path']]"
      ],
      "metadata": {
        "id": "xn3lrD-x0qXl"
      },
      "execution_count": 12,
      "outputs": []
    },
    {
      "cell_type": "code",
      "source": [
        "df2.head()"
      ],
      "metadata": {
        "colab": {
          "base_uri": "https://localhost:8080/",
          "height": 206
        },
        "id": "YH05__XP047G",
        "outputId": "799e8273-0b5b-4fd8-ec56-88207bd31beb"
      },
      "execution_count": 13,
      "outputs": [
        {
          "output_type": "execute_result",
          "data": {
            "text/plain": [
              "   ClassId                                     Path\n",
              "0       20  /content/Train/20/00020_00000_00000.png\n",
              "1       20  /content/Train/20/00020_00000_00001.png\n",
              "2       20  /content/Train/20/00020_00000_00002.png\n",
              "3       20  /content/Train/20/00020_00000_00003.png\n",
              "4       20  /content/Train/20/00020_00000_00004.png"
            ],
            "text/html": [
              "\n",
              "  <div id=\"df-78b6e0d4-59cc-4b94-86b4-d146b1270114\">\n",
              "    <div class=\"colab-df-container\">\n",
              "      <div>\n",
              "<style scoped>\n",
              "    .dataframe tbody tr th:only-of-type {\n",
              "        vertical-align: middle;\n",
              "    }\n",
              "\n",
              "    .dataframe tbody tr th {\n",
              "        vertical-align: top;\n",
              "    }\n",
              "\n",
              "    .dataframe thead th {\n",
              "        text-align: right;\n",
              "    }\n",
              "</style>\n",
              "<table border=\"1\" class=\"dataframe\">\n",
              "  <thead>\n",
              "    <tr style=\"text-align: right;\">\n",
              "      <th></th>\n",
              "      <th>ClassId</th>\n",
              "      <th>Path</th>\n",
              "    </tr>\n",
              "  </thead>\n",
              "  <tbody>\n",
              "    <tr>\n",
              "      <th>0</th>\n",
              "      <td>20</td>\n",
              "      <td>/content/Train/20/00020_00000_00000.png</td>\n",
              "    </tr>\n",
              "    <tr>\n",
              "      <th>1</th>\n",
              "      <td>20</td>\n",
              "      <td>/content/Train/20/00020_00000_00001.png</td>\n",
              "    </tr>\n",
              "    <tr>\n",
              "      <th>2</th>\n",
              "      <td>20</td>\n",
              "      <td>/content/Train/20/00020_00000_00002.png</td>\n",
              "    </tr>\n",
              "    <tr>\n",
              "      <th>3</th>\n",
              "      <td>20</td>\n",
              "      <td>/content/Train/20/00020_00000_00003.png</td>\n",
              "    </tr>\n",
              "    <tr>\n",
              "      <th>4</th>\n",
              "      <td>20</td>\n",
              "      <td>/content/Train/20/00020_00000_00004.png</td>\n",
              "    </tr>\n",
              "  </tbody>\n",
              "</table>\n",
              "</div>\n",
              "      <button class=\"colab-df-convert\" onclick=\"convertToInteractive('df-78b6e0d4-59cc-4b94-86b4-d146b1270114')\"\n",
              "              title=\"Convert this dataframe to an interactive table.\"\n",
              "              style=\"display:none;\">\n",
              "        \n",
              "  <svg xmlns=\"http://www.w3.org/2000/svg\" height=\"24px\"viewBox=\"0 0 24 24\"\n",
              "       width=\"24px\">\n",
              "    <path d=\"M0 0h24v24H0V0z\" fill=\"none\"/>\n",
              "    <path d=\"M18.56 5.44l.94 2.06.94-2.06 2.06-.94-2.06-.94-.94-2.06-.94 2.06-2.06.94zm-11 1L8.5 8.5l.94-2.06 2.06-.94-2.06-.94L8.5 2.5l-.94 2.06-2.06.94zm10 10l.94 2.06.94-2.06 2.06-.94-2.06-.94-.94-2.06-.94 2.06-2.06.94z\"/><path d=\"M17.41 7.96l-1.37-1.37c-.4-.4-.92-.59-1.43-.59-.52 0-1.04.2-1.43.59L10.3 9.45l-7.72 7.72c-.78.78-.78 2.05 0 2.83L4 21.41c.39.39.9.59 1.41.59.51 0 1.02-.2 1.41-.59l7.78-7.78 2.81-2.81c.8-.78.8-2.07 0-2.86zM5.41 20L4 18.59l7.72-7.72 1.47 1.35L5.41 20z\"/>\n",
              "  </svg>\n",
              "      </button>\n",
              "      \n",
              "  <style>\n",
              "    .colab-df-container {\n",
              "      display:flex;\n",
              "      flex-wrap:wrap;\n",
              "      gap: 12px;\n",
              "    }\n",
              "\n",
              "    .colab-df-convert {\n",
              "      background-color: #E8F0FE;\n",
              "      border: none;\n",
              "      border-radius: 50%;\n",
              "      cursor: pointer;\n",
              "      display: none;\n",
              "      fill: #1967D2;\n",
              "      height: 32px;\n",
              "      padding: 0 0 0 0;\n",
              "      width: 32px;\n",
              "    }\n",
              "\n",
              "    .colab-df-convert:hover {\n",
              "      background-color: #E2EBFA;\n",
              "      box-shadow: 0px 1px 2px rgba(60, 64, 67, 0.3), 0px 1px 3px 1px rgba(60, 64, 67, 0.15);\n",
              "      fill: #174EA6;\n",
              "    }\n",
              "\n",
              "    [theme=dark] .colab-df-convert {\n",
              "      background-color: #3B4455;\n",
              "      fill: #D2E3FC;\n",
              "    }\n",
              "\n",
              "    [theme=dark] .colab-df-convert:hover {\n",
              "      background-color: #434B5C;\n",
              "      box-shadow: 0px 1px 3px 1px rgba(0, 0, 0, 0.15);\n",
              "      filter: drop-shadow(0px 1px 2px rgba(0, 0, 0, 0.3));\n",
              "      fill: #FFFFFF;\n",
              "    }\n",
              "  </style>\n",
              "\n",
              "      <script>\n",
              "        const buttonEl =\n",
              "          document.querySelector('#df-78b6e0d4-59cc-4b94-86b4-d146b1270114 button.colab-df-convert');\n",
              "        buttonEl.style.display =\n",
              "          google.colab.kernel.accessAllowed ? 'block' : 'none';\n",
              "\n",
              "        async function convertToInteractive(key) {\n",
              "          const element = document.querySelector('#df-78b6e0d4-59cc-4b94-86b4-d146b1270114');\n",
              "          const dataTable =\n",
              "            await google.colab.kernel.invokeFunction('convertToInteractive',\n",
              "                                                     [key], {});\n",
              "          if (!dataTable) return;\n",
              "\n",
              "          const docLinkHtml = 'Like what you see? Visit the ' +\n",
              "            '<a target=\"_blank\" href=https://colab.research.google.com/notebooks/data_table.ipynb>data table notebook</a>'\n",
              "            + ' to learn more about interactive tables.';\n",
              "          element.innerHTML = '';\n",
              "          dataTable['output_type'] = 'display_data';\n",
              "          await google.colab.output.renderOutput(dataTable, element);\n",
              "          const docLink = document.createElement('div');\n",
              "          docLink.innerHTML = docLinkHtml;\n",
              "          element.appendChild(docLink);\n",
              "        }\n",
              "      </script>\n",
              "    </div>\n",
              "  </div>\n",
              "  "
            ]
          },
          "metadata": {},
          "execution_count": 13
        }
      ]
    },
    {
      "cell_type": "markdown",
      "source": [
        "For the time reasons we used 50% of all available data e.g almost 20K images.\n"
      ],
      "metadata": {
        "id": "wXtqYE6E6GpF"
      }
    },
    {
      "cell_type": "code",
      "source": [
        "df = df2.sample(frac=0.5)"
      ],
      "metadata": {
        "id": "BOrtLe1R6ToB"
      },
      "execution_count": 14,
      "outputs": []
    },
    {
      "cell_type": "code",
      "source": [
        "from torch.utils.data import Dataset\n",
        "\n",
        "class CustomDataset(Dataset):\n",
        "  def __init__(self, X, y, BatchSize, transform):\n",
        "    super().__init__()\n",
        "    self.BatchSize = BatchSize\n",
        "    self.y = y\n",
        "    self.X = X\n",
        "    self.transform = transform\n",
        "    \n",
        "  def num_of_batches(self):\n",
        "    \"\"\"\n",
        "    Detect the total number of batches\n",
        "    \"\"\"\n",
        "    return math.floor(len(self.list_IDs) / self.BatchSize)\n",
        "\n",
        "  def __getitem__(self,idx):\n",
        "    class_id = self.y[idx]\n",
        "    img = Image.open(self.X[idx])\n",
        "    img = self.transform(img)\n",
        "    return img, torch.tensor(int(class_id))\n",
        "\n",
        "  def __len__(self):\n",
        "    return len(self.X)"
      ],
      "metadata": {
        "id": "F5drKP371I0Z"
      },
      "execution_count": 15,
      "outputs": []
    },
    {
      "cell_type": "code",
      "source": [
        "from sklearn.model_selection import train_test_split\n",
        "from torch.utils.data import DataLoader\n",
        "from torchvision import transforms\n",
        "\n",
        "# Shuffeling our dataframe\n",
        "df = df.sample(frac=1)\n",
        "\n",
        "X = df.iloc[:,1]\n",
        "y = df.iloc[:,0]\n",
        "\n",
        "transform = transforms.Compose([\n",
        "                transforms.Resize([256,256]),\n",
        "                transforms.RandomRotation(20, fill=256),\n",
        "                transforms.ColorJitter(brightness=0.1, contrast=0.1, saturation=0.1, hue=0.1),\n",
        "                transforms.ToTensor(),\n",
        "                transforms.RandomAffine(degrees=0, translate=(0.15, 0.15)),\n",
        "                transforms.Normalize([0.5], [0.5])\n",
        "            ])\n",
        "\n",
        "test_transform = transforms.Compose([\n",
        "                              transforms.Resize([256,256]),\n",
        "                              transforms.ToTensor(),\n",
        "                              transforms.Normalize((0.5,), (0.5,)),\n",
        "                              ])\n",
        "\n",
        "train_ratio = 0.90\n",
        "validation_ratio = 0.05\n",
        "test_ratio = 0.05\n",
        "\n",
        "X_train, X_test, y_train, y_test = train_test_split(X, y, test_size=1 - train_ratio, stratify = y, random_state = 0)\n",
        "X_val, X_test, y_val, y_test = train_test_split(X_test, y_test, test_size=test_ratio/(test_ratio + validation_ratio), random_state = 0)\n",
        "\n",
        "dataset_stages = ['train', 'val', 'test']\n",
        "\n",
        "batch_size = 32\n",
        "image_datasets = {'train' : CustomDataset(X_train.values, y_train.values, batch_size, transform), 'val' : CustomDataset(X_val.values, y_val.values, batch_size, test_transform), 'test' : CustomDataset(X_test.values, y_test.values, batch_size, test_transform)}\n",
        "dataloaders = {x: DataLoader(image_datasets[x], batch_size=image_datasets[x].BatchSize,\n",
        "                                            shuffle=True, num_workers=0)\n",
        "            for x in dataset_stages}\n",
        "\n",
        "dataset_sizes = {x: len(image_datasets[x]) for x in ['train', 'val', 'test']}"
      ],
      "metadata": {
        "id": "V7UnWGgw1I0a"
      },
      "execution_count": 16,
      "outputs": []
    },
    {
      "cell_type": "markdown",
      "source": [
        "Showing one of our training images"
      ],
      "metadata": {
        "id": "wYlwgaKuOvrL"
      }
    },
    {
      "cell_type": "code",
      "source": [
        "import matplotlib.pyplot as plt\n",
        "nparray = image_datasets['train'][2][0].cpu().numpy() \n",
        "image = transforms.ToPILImage()(image_datasets['train'][2][0].cpu()).convert(\"RGB\")\n",
        "display(image)"
      ],
      "metadata": {
        "colab": {
          "base_uri": "https://localhost:8080/",
          "height": 273
        },
        "outputId": "04584e6e-29b8-4edf-f4fd-7508c4468b87",
        "id": "dEgR94HZ1I0a"
      },
      "execution_count": 17,
      "outputs": [
        {
          "output_type": "display_data",
          "data": {
            "text/plain": [
              "<PIL.Image.Image image mode=RGB size=256x256 at 0x7F83885CD4C0>"
            ],
            "image/png": "[encoded data removed]"
          },
          "metadata": {}
        }
      ]
    },
    {
      "cell_type": "code",
      "source": [
        "image_datasets['train'].y"
      ],
      "metadata": {
        "colab": {
          "base_uri": "https://localhost:8080/"
        },
        "id": "dPUvf1pO9C5k",
        "outputId": "67baa954-87e7-4ca8-f8ac-922f08d2ff44"
      },
      "execution_count": 18,
      "outputs": [
        {
          "output_type": "execute_result",
          "data": {
            "text/plain": [
              "array([27,  8,  1, ...,  8,  8, 28])"
            ]
          },
          "metadata": {},
          "execution_count": 18
        }
      ]
    },
    {
      "cell_type": "code",
      "source": [
        "classes_names"
      ],
      "metadata": {
        "colab": {
          "base_uri": "https://localhost:8080/"
        },
        "id": "fgKlaD59xB4M",
        "outputId": "0ca44b13-c53f-4657-8168-deaedcc77e02"
      },
      "execution_count": 19,
      "outputs": [
        {
          "output_type": "execute_result",
          "data": {
            "text/plain": [
              "{0: 'Speed limit (20km/h)',\n",
              " 1: 'Speed limit (30km/h)',\n",
              " 2: 'Speed limit (50km/h)',\n",
              " 3: 'Speed limit (60km/h)',\n",
              " 4: 'Speed limit (70km/h)',\n",
              " 5: 'Speed limit (80km/h)',\n",
              " 6: 'End of speed limit (80km/h)',\n",
              " 7: 'Speed limit (100km/h)',\n",
              " 8: 'Speed limit (120km/h)',\n",
              " 9: 'No passing',\n",
              " 10: 'No passing veh over 3.5 tons',\n",
              " 11: 'Right-of-way at intersection',\n",
              " 12: 'Priority road',\n",
              " 13: 'Yield',\n",
              " 14: 'Stop',\n",
              " 15: 'No vehicles',\n",
              " 16: 'Veh > 3.5 tons prohibited',\n",
              " 17: 'No entry',\n",
              " 18: 'General caution',\n",
              " 19: 'Dangerous curve left',\n",
              " 20: 'Dangerous curve right',\n",
              " 21: 'Double curve',\n",
              " 22: 'Bumpy road',\n",
              " 23: 'Slippery road',\n",
              " 24: 'Road narrows on the right',\n",
              " 25: 'Road work',\n",
              " 26: 'Traffic signals',\n",
              " 27: 'Pedestrians',\n",
              " 28: 'Children crossing',\n",
              " 29: 'Bicycles crossing',\n",
              " 30: 'Beware of ice/snow',\n",
              " 31: 'Wild animals crossing',\n",
              " 32: 'End speed + passing limits',\n",
              " 33: 'Turn right ahead',\n",
              " 34: 'Turn left ahead',\n",
              " 35: 'Ahead only',\n",
              " 36: 'Go straight or right',\n",
              " 37: 'Go straight or left',\n",
              " 38: 'Keep right',\n",
              " 39: 'Keep left',\n",
              " 40: 'Roundabout mandatory',\n",
              " 41: 'End of no passing',\n",
              " 42: 'End no passing veh > 3.5 tons'}"
            ]
          },
          "metadata": {},
          "execution_count": 19
        }
      ]
    },
    {
      "cell_type": "markdown",
      "source": [
        "One of our testing image"
      ],
      "metadata": {
        "id": "iO4wadyy0n3k"
      }
    },
    {
      "cell_type": "code",
      "source": [
        "import matplotlib.pyplot as plt\n",
        "image = transforms.ToPILImage()(image_datasets['test'][2][0].cpu()).convert(\"RGB\")\n",
        "display(image)"
      ],
      "metadata": {
        "colab": {
          "base_uri": "https://localhost:8080/",
          "height": 273
        },
        "outputId": "806b8256-84a1-4419-c374-f757c039d443",
        "id": "QFqLOwit0mWH"
      },
      "execution_count": 20,
      "outputs": [
        {
          "output_type": "display_data",
          "data": {
            "text/plain": [
              "<PIL.Image.Image image mode=RGB size=256x256 at 0x7F84094C0640>"
            ],
            "image/png": "[encoded data removed]"
          },
          "metadata": {}
        }
      ]
    },
    {
      "cell_type": "code",
      "source": [
        "import time\n",
        "\n",
        "device = torch.device(\"cuda:0\" if torch.cuda.is_available() else \"cpu\")\n",
        "\n",
        "def train_model(model, criterion, optimizer, scheduler, num_epochs=10):\n",
        "  since = time.time()\n",
        "  best_acc = 0.0\n",
        "\n",
        "  for epoch in range(num_epochs):\n",
        "      print('Epoch {}/{}'.format(epoch, num_epochs - 1))\n",
        "      print('-' * 10)\n",
        "      # Each epoch has a training and validation phase\n",
        "      for phase in ['train', 'val']:\n",
        "          if phase == 'train':\n",
        "              model.train()  # Set model to training mode\n",
        "          else:\n",
        "            model.eval()   # Set model to evaluate mode\n",
        "\n",
        "          running_loss = 0.0\n",
        "          running_corrects = 0\n",
        "          num_batches = 0\n",
        "          outputs = None\n",
        "          # Iterate over data.\n",
        "          for inputs, labels in dataloaders[phase]:\n",
        "              # Loading Bar\n",
        "              if (phase == 'train'):\n",
        "                num_batches += 1\n",
        "                percentage_complete = ((num_batches * batch_size) / (dataset_sizes[phase])) * 100\n",
        "                percentage_complete = np.clip(percentage_complete, 0, 100)\n",
        "                print(\"{:0.2f}\".format(percentage_complete), \"% complete\", end=\"\\r\")\n",
        "              inputs = inputs.to(device)\n",
        "              labels = labels.to(device)\n",
        "\n",
        "              # zero the parameter gradients\n",
        "              optimizer.zero_grad()\n",
        "              \n",
        "              # forward\n",
        "              # track history if only in train\n",
        "              with torch.set_grad_enabled(phase == 'train'):\n",
        "                outputs = model(inputs)\n",
        "                loss = criterion(outputs.float(), labels)\n",
        "\n",
        "                  # backward + optimize only if in training phase\n",
        "                if phase == 'train':\n",
        "                  loss.backward()\n",
        "                  torch.nn.utils.clip_grad_norm_(model.parameters(), 1)\n",
        "                  optimizer.step()\n",
        "              running_loss += loss.item() * inputs.size(0)\n",
        "              \n",
        "              predicted = torch.max(outputs.data, 1)[1] \n",
        "              running_correct = (predicted == labels).sum()\n",
        "              running_corrects += running_correct\n",
        "          if phase == 'train':\n",
        "              scheduler.step()\n",
        "\n",
        "          epoch_loss = running_loss / dataset_sizes[phase]\n",
        "          \n",
        "          epoch_acc = running_corrects / dataset_sizes[phase]\n",
        "          #epoch_acc = sum(epoch_acc) / len(epoch_acc)\n",
        "\n",
        "          print('{} Loss: {:.4f} Acc: {:.4f}'.format(\n",
        "              phase, epoch_loss, epoch_acc.item()))\n",
        "  time_elapsed = time.time() - since\n",
        "  print('Training complete in {:.0f}m {:.0f}s'.format(\n",
        "      time_elapsed // 60, time_elapsed % 60))\n",
        "  return model"
      ],
      "metadata": {
        "id": "A5Mr8fNa1rEt"
      },
      "execution_count": 22,
      "outputs": []
    },
    {
      "cell_type": "code",
      "source": [
        "from torchvision import models\n",
        "from torch.optim import lr_scheduler"
      ],
      "metadata": {
        "id": "hbJIkNTY1rEu"
      },
      "execution_count": 23,
      "outputs": []
    },
    {
      "cell_type": "markdown",
      "source": [
        "Loading pretrained Squeezenet_1.1 model and changing last layer and number of classes for our case"
      ],
      "metadata": {
        "id": "RGzu2M4fPc5G"
      }
    },
    {
      "cell_type": "code",
      "source": [
        "model_ft = models.squeezenet1_1(pretrained=True)\n",
        "model_ft.classifier._modules[\"1\"] = nn.Conv2d(512, 43, kernel_size=(1, 1))\n",
        "model_ft.num_classes = 43\n",
        "for param in model_ft.parameters():\n",
        "    param.requires_grad = False\n",
        "for param in model_ft.classifier.parameters():\n",
        "    param.requires_grad = True"
      ],
      "metadata": {
        "colab": {
          "base_uri": "https://localhost:8080/",
          "height": 156,
          "referenced_widgets": [
            "a82c97ae67cd494abb76ad8e68d625bf",
            "27445f084cf5429da85b1a335a92bdd1",
            "f4a4dc78501246a8932efa5313b0b9b2",
            "7b63fcc7071744a78948df7aa7ff05dc",
            "c7d710ac3b574008bb2d80f280e874ca",
            "838f533bed064d03b367808188d8baaa",
            "6f98a1f9315d4133bf0b0c541da4b951",
            "4885ea665b26473a86eddd0f20b49e40",
            "82a363ca87a84840a1bccb20f1f965d7",
            "7362df04801642e5b970116a0cb00df2",
            "be15116da7234da99a965898ea7cda25"
          ]
        },
        "outputId": "54808635-603c-4f40-a55f-f3bebd4232ca",
        "id": "G24P9Pjv1rEu"
      },
      "execution_count": 24,
      "outputs": [
        {
          "output_type": "stream",
          "name": "stderr",
          "text": [
            "/usr/local/lib/python3.8/dist-packages/torchvision/models/_utils.py:208: UserWarning: The parameter 'pretrained' is deprecated since 0.13 and may be removed in the future, please use 'weights' instead.\n",
            "  warnings.warn(\n",
            "/usr/local/lib/python3.8/dist-packages/torchvision/models/_utils.py:223: UserWarning: Arguments other than a weight enum or `None` for 'weights' are deprecated since 0.13 and may be removed in the future. The current behavior is equivalent to passing `weights=SqueezeNet1_1_Weights.IMAGENET1K_V1`. You can also use `weights=SqueezeNet1_1_Weights.DEFAULT` to get the most up-to-date weights.\n",
            "  warnings.warn(msg)\n",
            "Downloading: \"https://download.pytorch.org/models/squeezenet1_1-b8a52dc0.pth\" to /root/.cache/torch/hub/checkpoints/squeezenet1_1-b8a52dc0.pth\n"
          ]
        },
        {
          "output_type": "display_data",
          "data": {
            "text/plain": [
              "  0%|          | 0.00/4.73M [00:00<?, ?B/s]"
            ],
            "application/vnd.jupyter.widget-view+json": {
              "version_major": 2,
              "version_minor": 0,
              "model_id": "a82c97ae67cd494abb76ad8e68d625bf"
            }
          },
          "metadata": {}
        }
      ]
    },
    {
      "cell_type": "code",
      "source": [
        "device = 'cuda' if torch.cuda.is_available() else 'cpu'"
      ],
      "metadata": {
        "id": "ZkQ0sSat1rEv"
      },
      "execution_count": 25,
      "outputs": []
    },
    {
      "cell_type": "code",
      "source": [
        "device"
      ],
      "metadata": {
        "colab": {
          "base_uri": "https://localhost:8080/",
          "height": 35
        },
        "outputId": "14c81103-cc2a-4005-8bbd-3e1e91e9f9a3",
        "id": "FyzYLEKw1rEv"
      },
      "execution_count": 26,
      "outputs": [
        {
          "output_type": "execute_result",
          "data": {
            "text/plain": [
              "'cuda'"
            ],
            "application/vnd.google.colaboratory.intrinsic+json": {
              "type": "string"
            }
          },
          "metadata": {},
          "execution_count": 26
        }
      ]
    },
    {
      "cell_type": "markdown",
      "source": [
        "## Trainining model on our data"
      ],
      "metadata": {
        "id": "be8MJkX-2F4x"
      }
    },
    {
      "cell_type": "code",
      "source": [
        "# criterion = nn.CrossEntropyLoss()\n",
        "\n",
        "# optimizer_ft = optim.Adam(model_ft.parameters(), lr=0.001)\n",
        "\n",
        "# exp_lr_scheduler = lr_scheduler.StepLR(optimizer_ft, step_size=7, gamma=0.1)\n",
        "# num_epoch = 10\n",
        "# model_ft = train_model(model_ft.to(device), criterion, optimizer_ft, exp_lr_scheduler, num_epoch)"
      ],
      "metadata": {
        "id": "ZJ2-1vJw2IcZ"
      },
      "execution_count": 27,
      "outputs": []
    },
    {
      "cell_type": "code",
      "source": [
        "# def freeze_model(model):\n",
        "#     for parameter in model.parameters():\n",
        "#         parameter.requires_grad = False"
      ],
      "metadata": {
        "id": "xcW4TMw82IcZ"
      },
      "execution_count": 28,
      "outputs": []
    },
    {
      "cell_type": "code",
      "metadata": {
        "id": "mJdLMXAU2Ica"
      },
      "source": [
        "# freeze_model(model_ft)"
      ],
      "execution_count": 29,
      "outputs": []
    },
    {
      "cell_type": "code",
      "source": [
        "# PATH = \"01SU2_squeezenet_signs_model_germany.pt\"\n",
        "\n",
        "# # Saving our model\n",
        "# torch.save(model_ft.state_dict(), PATH)"
      ],
      "metadata": {
        "id": "yTtLsZLd2Ica"
      },
      "execution_count": 30,
      "outputs": []
    },
    {
      "cell_type": "markdown",
      "source": [
        "## Loading our trained model"
      ],
      "metadata": {
        "id": "xQTSUgBttG9v"
      }
    },
    {
      "cell_type": "code",
      "source": [
        "model_ft = models.squeezenet1_1(pretrained=True)\n",
        "model_ft.classifier._modules[\"1\"] = nn.Conv2d(512, 43, kernel_size=(1, 1))\n",
        "model_ft.num_classes = 43\n",
        "for param in model_ft.parameters():\n",
        "    param.requires_grad = False\n",
        "for param in model_ft.classifier.parameters():\n",
        "    param.requires_grad = True"
      ],
      "metadata": {
        "id": "G7ixVCLitmH8"
      },
      "execution_count": 27,
      "outputs": []
    },
    {
      "cell_type": "code",
      "source": [
        "model_ft.load_state_dict(torch.load(\"/content/01SU2_squeezenet_signs_model_germany.pt\"))\n",
        "# NO cuda\n",
        "#model_ft.load_state_dict(torch.load('/content/01SU2_squeezenet_signs_model_germany.pt', map_location=torch.device('cpu')))\n",
        "\n",
        "model_ft.eval()"
      ],
      "metadata": {
        "colab": {
          "base_uri": "https://localhost:8080/"
        },
        "outputId": "19d464d9-5a2f-45e6-926f-dfbe5a40ac44",
        "id": "YhusTl7otmH8"
      },
      "execution_count": 28,
      "outputs": [
        {
          "output_type": "execute_result",
          "data": {
            "text/plain": [
              "SqueezeNet(\n",
              "  (features): Sequential(\n",
              "    (0): Conv2d(3, 64, kernel_size=(3, 3), stride=(2, 2))\n",
              "    (1): ReLU(inplace=True)\n",
              "    (2): MaxPool2d(kernel_size=3, stride=2, padding=0, dilation=1, ceil_mode=True)\n",
              "    (3): Fire(\n",
              "      (squeeze): Conv2d(64, 16, kernel_size=(1, 1), stride=(1, 1))\n",
              "      (squeeze_activation): ReLU(inplace=True)\n",
              "      (expand1x1): Conv2d(16, 64, kernel_size=(1, 1), stride=(1, 1))\n",
              "      (expand1x1_activation): ReLU(inplace=True)\n",
              "      (expand3x3): Conv2d(16, 64, kernel_size=(3, 3), stride=(1, 1), padding=(1, 1))\n",
              "      (expand3x3_activation): ReLU(inplace=True)\n",
              "    )\n",
              "    (4): Fire(\n",
              "      (squeeze): Conv2d(128, 16, kernel_size=(1, 1), stride=(1, 1))\n",
              "      (squeeze_activation): ReLU(inplace=True)\n",
              "      (expand1x1): Conv2d(16, 64, kernel_size=(1, 1), stride=(1, 1))\n",
              "      (expand1x1_activation): ReLU(inplace=True)\n",
              "      (expand3x3): Conv2d(16, 64, kernel_size=(3, 3), stride=(1, 1), padding=(1, 1))\n",
              "      (expand3x3_activation): ReLU(inplace=True)\n",
              "    )\n",
              "    (5): MaxPool2d(kernel_size=3, stride=2, padding=0, dilation=1, ceil_mode=True)\n",
              "    (6): Fire(\n",
              "      (squeeze): Conv2d(128, 32, kernel_size=(1, 1), stride=(1, 1))\n",
              "      (squeeze_activation): ReLU(inplace=True)\n",
              "      (expand1x1): Conv2d(32, 128, kernel_size=(1, 1), stride=(1, 1))\n",
              "      (expand1x1_activation): ReLU(inplace=True)\n",
              "      (expand3x3): Conv2d(32, 128, kernel_size=(3, 3), stride=(1, 1), padding=(1, 1))\n",
              "      (expand3x3_activation): ReLU(inplace=True)\n",
              "    )\n",
              "    (7): Fire(\n",
              "      (squeeze): Conv2d(256, 32, kernel_size=(1, 1), stride=(1, 1))\n",
              "      (squeeze_activation): ReLU(inplace=True)\n",
              "      (expand1x1): Conv2d(32, 128, kernel_size=(1, 1), stride=(1, 1))\n",
              "      (expand1x1_activation): ReLU(inplace=True)\n",
              "      (expand3x3): Conv2d(32, 128, kernel_size=(3, 3), stride=(1, 1), padding=(1, 1))\n",
              "      (expand3x3_activation): ReLU(inplace=True)\n",
              "    )\n",
              "    (8): MaxPool2d(kernel_size=3, stride=2, padding=0, dilation=1, ceil_mode=True)\n",
              "    (9): Fire(\n",
              "      (squeeze): Conv2d(256, 48, kernel_size=(1, 1), stride=(1, 1))\n",
              "      (squeeze_activation): ReLU(inplace=True)\n",
              "      (expand1x1): Conv2d(48, 192, kernel_size=(1, 1), stride=(1, 1))\n",
              "      (expand1x1_activation): ReLU(inplace=True)\n",
              "      (expand3x3): Conv2d(48, 192, kernel_size=(3, 3), stride=(1, 1), padding=(1, 1))\n",
              "      (expand3x3_activation): ReLU(inplace=True)\n",
              "    )\n",
              "    (10): Fire(\n",
              "      (squeeze): Conv2d(384, 48, kernel_size=(1, 1), stride=(1, 1))\n",
              "      (squeeze_activation): ReLU(inplace=True)\n",
              "      (expand1x1): Conv2d(48, 192, kernel_size=(1, 1), stride=(1, 1))\n",
              "      (expand1x1_activation): ReLU(inplace=True)\n",
              "      (expand3x3): Conv2d(48, 192, kernel_size=(3, 3), stride=(1, 1), padding=(1, 1))\n",
              "      (expand3x3_activation): ReLU(inplace=True)\n",
              "    )\n",
              "    (11): Fire(\n",
              "      (squeeze): Conv2d(384, 64, kernel_size=(1, 1), stride=(1, 1))\n",
              "      (squeeze_activation): ReLU(inplace=True)\n",
              "      (expand1x1): Conv2d(64, 256, kernel_size=(1, 1), stride=(1, 1))\n",
              "      (expand1x1_activation): ReLU(inplace=True)\n",
              "      (expand3x3): Conv2d(64, 256, kernel_size=(3, 3), stride=(1, 1), padding=(1, 1))\n",
              "      (expand3x3_activation): ReLU(inplace=True)\n",
              "    )\n",
              "    (12): Fire(\n",
              "      (squeeze): Conv2d(512, 64, kernel_size=(1, 1), stride=(1, 1))\n",
              "      (squeeze_activation): ReLU(inplace=True)\n",
              "      (expand1x1): Conv2d(64, 256, kernel_size=(1, 1), stride=(1, 1))\n",
              "      (expand1x1_activation): ReLU(inplace=True)\n",
              "      (expand3x3): Conv2d(64, 256, kernel_size=(3, 3), stride=(1, 1), padding=(1, 1))\n",
              "      (expand3x3_activation): ReLU(inplace=True)\n",
              "    )\n",
              "  )\n",
              "  (classifier): Sequential(\n",
              "    (0): Dropout(p=0.5, inplace=False)\n",
              "    (1): Conv2d(512, 43, kernel_size=(1, 1), stride=(1, 1))\n",
              "    (2): ReLU(inplace=True)\n",
              "    (3): AdaptiveAvgPool2d(output_size=(1, 1))\n",
              "  )\n",
              ")"
            ]
          },
          "metadata": {},
          "execution_count": 28
        }
      ]
    },
    {
      "cell_type": "code",
      "source": [
        "model_ft.to(torch.device(device))"
      ],
      "metadata": {
        "colab": {
          "base_uri": "https://localhost:8080/"
        },
        "outputId": "437a9493-d7e7-43d6-bfa9-23c5c48ea9d8",
        "id": "ZR_glO24tmH9"
      },
      "execution_count": 29,
      "outputs": [
        {
          "output_type": "execute_result",
          "data": {
            "text/plain": [
              "SqueezeNet(\n",
              "  (features): Sequential(\n",
              "    (0): Conv2d(3, 64, kernel_size=(3, 3), stride=(2, 2))\n",
              "    (1): ReLU(inplace=True)\n",
              "    (2): MaxPool2d(kernel_size=3, stride=2, padding=0, dilation=1, ceil_mode=True)\n",
              "    (3): Fire(\n",
              "      (squeeze): Conv2d(64, 16, kernel_size=(1, 1), stride=(1, 1))\n",
              "      (squeeze_activation): ReLU(inplace=True)\n",
              "      (expand1x1): Conv2d(16, 64, kernel_size=(1, 1), stride=(1, 1))\n",
              "      (expand1x1_activation): ReLU(inplace=True)\n",
              "      (expand3x3): Conv2d(16, 64, kernel_size=(3, 3), stride=(1, 1), padding=(1, 1))\n",
              "      (expand3x3_activation): ReLU(inplace=True)\n",
              "    )\n",
              "    (4): Fire(\n",
              "      (squeeze): Conv2d(128, 16, kernel_size=(1, 1), stride=(1, 1))\n",
              "      (squeeze_activation): ReLU(inplace=True)\n",
              "      (expand1x1): Conv2d(16, 64, kernel_size=(1, 1), stride=(1, 1))\n",
              "      (expand1x1_activation): ReLU(inplace=True)\n",
              "      (expand3x3): Conv2d(16, 64, kernel_size=(3, 3), stride=(1, 1), padding=(1, 1))\n",
              "      (expand3x3_activation): ReLU(inplace=True)\n",
              "    )\n",
              "    (5): MaxPool2d(kernel_size=3, stride=2, padding=0, dilation=1, ceil_mode=True)\n",
              "    (6): Fire(\n",
              "      (squeeze): Conv2d(128, 32, kernel_size=(1, 1), stride=(1, 1))\n",
              "      (squeeze_activation): ReLU(inplace=True)\n",
              "      (expand1x1): Conv2d(32, 128, kernel_size=(1, 1), stride=(1, 1))\n",
              "      (expand1x1_activation): ReLU(inplace=True)\n",
              "      (expand3x3): Conv2d(32, 128, kernel_size=(3, 3), stride=(1, 1), padding=(1, 1))\n",
              "      (expand3x3_activation): ReLU(inplace=True)\n",
              "    )\n",
              "    (7): Fire(\n",
              "      (squeeze): Conv2d(256, 32, kernel_size=(1, 1), stride=(1, 1))\n",
              "      (squeeze_activation): ReLU(inplace=True)\n",
              "      (expand1x1): Conv2d(32, 128, kernel_size=(1, 1), stride=(1, 1))\n",
              "      (expand1x1_activation): ReLU(inplace=True)\n",
              "      (expand3x3): Conv2d(32, 128, kernel_size=(3, 3), stride=(1, 1), padding=(1, 1))\n",
              "      (expand3x3_activation): ReLU(inplace=True)\n",
              "    )\n",
              "    (8): MaxPool2d(kernel_size=3, stride=2, padding=0, dilation=1, ceil_mode=True)\n",
              "    (9): Fire(\n",
              "      (squeeze): Conv2d(256, 48, kernel_size=(1, 1), stride=(1, 1))\n",
              "      (squeeze_activation): ReLU(inplace=True)\n",
              "      (expand1x1): Conv2d(48, 192, kernel_size=(1, 1), stride=(1, 1))\n",
              "      (expand1x1_activation): ReLU(inplace=True)\n",
              "      (expand3x3): Conv2d(48, 192, kernel_size=(3, 3), stride=(1, 1), padding=(1, 1))\n",
              "      (expand3x3_activation): ReLU(inplace=True)\n",
              "    )\n",
              "    (10): Fire(\n",
              "      (squeeze): Conv2d(384, 48, kernel_size=(1, 1), stride=(1, 1))\n",
              "      (squeeze_activation): ReLU(inplace=True)\n",
              "      (expand1x1): Conv2d(48, 192, kernel_size=(1, 1), stride=(1, 1))\n",
              "      (expand1x1_activation): ReLU(inplace=True)\n",
              "      (expand3x3): Conv2d(48, 192, kernel_size=(3, 3), stride=(1, 1), padding=(1, 1))\n",
              "      (expand3x3_activation): ReLU(inplace=True)\n",
              "    )\n",
              "    (11): Fire(\n",
              "      (squeeze): Conv2d(384, 64, kernel_size=(1, 1), stride=(1, 1))\n",
              "      (squeeze_activation): ReLU(inplace=True)\n",
              "      (expand1x1): Conv2d(64, 256, kernel_size=(1, 1), stride=(1, 1))\n",
              "      (expand1x1_activation): ReLU(inplace=True)\n",
              "      (expand3x3): Conv2d(64, 256, kernel_size=(3, 3), stride=(1, 1), padding=(1, 1))\n",
              "      (expand3x3_activation): ReLU(inplace=True)\n",
              "    )\n",
              "    (12): Fire(\n",
              "      (squeeze): Conv2d(512, 64, kernel_size=(1, 1), stride=(1, 1))\n",
              "      (squeeze_activation): ReLU(inplace=True)\n",
              "      (expand1x1): Conv2d(64, 256, kernel_size=(1, 1), stride=(1, 1))\n",
              "      (expand1x1_activation): ReLU(inplace=True)\n",
              "      (expand3x3): Conv2d(64, 256, kernel_size=(3, 3), stride=(1, 1), padding=(1, 1))\n",
              "      (expand3x3_activation): ReLU(inplace=True)\n",
              "    )\n",
              "  )\n",
              "  (classifier): Sequential(\n",
              "    (0): Dropout(p=0.5, inplace=False)\n",
              "    (1): Conv2d(512, 43, kernel_size=(1, 1), stride=(1, 1))\n",
              "    (2): ReLU(inplace=True)\n",
              "    (3): AdaptiveAvgPool2d(output_size=(1, 1))\n",
              "  )\n",
              ")"
            ]
          },
          "metadata": {},
          "execution_count": 29
        }
      ]
    },
    {
      "cell_type": "markdown",
      "source": [
        "## Some insight on how well does our model predicts"
      ],
      "metadata": {
        "id": "MboexJ7-9h4r"
      }
    },
    {
      "cell_type": "code",
      "source": [
        "from sklearn.metrics import accuracy_score \n",
        "\n",
        "accuracy_scores = []\n",
        "\n",
        "running_corrects = 0\n",
        "outputs = None\n",
        "for inputs, labels in dataloaders['test']:\n",
        "    model_ft.eval()\n",
        "    \n",
        "    inputs = inputs.to(device)\n",
        "    labels = labels.to(device)\n",
        "\n",
        "    outputs = model_ft(inputs)\n",
        "\n",
        "    predicted = torch.max(outputs.data, 1)[1]\n",
        "    print(\"predicted:\")\n",
        "    print(predicted)\n",
        "    print(\"labels:\")\n",
        "    print(labels)\n",
        "    running_correct = (predicted == labels).sum()\n",
        "    running_corrects += running_correct\n",
        "\n",
        "accuracy = running_corrects / dataset_sizes['test']\n",
        "print(\"Accuracy: \" + str(accuracy.item()))"
      ],
      "metadata": {
        "colab": {
          "base_uri": "https://localhost:8080/"
        },
        "outputId": "0f4812eb-b481-4e67-dd75-93a014cf17ab",
        "id": "v6MV8Mfq2Icd"
      },
      "execution_count": 30,
      "outputs": [
        {
          "output_type": "stream",
          "name": "stdout",
          "text": [
            "predicted:\n",
            "tensor([26,  5,  7, 33,  5, 25, 20, 38,  8, 10, 11, 17,  4, 17, 41,  4,  1, 16,\n",
            "         8, 29,  2,  5, 13,  7, 13, 35, 10, 28,  6, 25,  4, 17],\n",
            "       device='cuda:0')\n",
            "labels:\n",
            "tensor([26,  5,  7, 34,  5, 28, 20, 38,  7, 10, 11, 17,  4, 17, 41, 11,  1, 16,\n",
            "         8, 29,  2,  5, 13,  7, 13, 35, 10, 28,  6, 25,  4, 17],\n",
            "       device='cuda:0')\n",
            "predicted:\n",
            "tensor([ 5, 38,  1, 33, 22,  1, 23, 10, 15,  1, 17,  8, 15,  5,  9, 25, 23,  4,\n",
            "         0, 34, 13,  7, 14,  2,  9, 35,  8, 11, 12,  3, 33, 35],\n",
            "       device='cuda:0')\n",
            "labels:\n",
            "tensor([ 5, 38,  1, 33, 22,  1, 23, 10, 15,  1, 17,  8, 15,  5,  9, 18, 23,  4,\n",
            "         0, 34, 13,  7, 14,  2,  9, 35,  8, 25, 12,  3, 33, 35],\n",
            "       device='cuda:0')\n",
            "predicted:\n",
            "tensor([13, 12,  9, 18,  8,  4, 12, 35, 17, 15,  5, 15,  9, 38, 10,  3, 13, 33,\n",
            "        20, 13,  8, 13,  3, 33,  4, 18,  4, 34,  4,  2, 15,  1],\n",
            "       device='cuda:0')\n",
            "labels:\n",
            "tensor([13, 12,  9, 18,  7,  4, 12, 35, 17, 15,  2, 15,  9, 38, 10,  3, 13, 33,\n",
            "        20, 13,  8, 13,  3, 33,  4, 18,  4, 34,  4,  2, 15,  5],\n",
            "       device='cuda:0')\n",
            "predicted:\n",
            "tensor([38,  9, 13,  1, 38, 36,  2, 13,  4,  5, 11,  5, 13, 11,  4, 10, 30, 16,\n",
            "         9,  5,  5,  4,  9,  4, 33, 15, 36,  4, 31,  1, 24,  4],\n",
            "       device='cuda:0')\n",
            "labels:\n",
            "tensor([38,  9, 13,  1, 38, 36,  2, 13,  4,  5, 11,  5, 13, 11,  4, 10, 30, 16,\n",
            "         9,  5,  5,  2,  9,  2, 33, 15, 37,  3, 31,  1, 24,  4],\n",
            "       device='cuda:0')\n",
            "predicted:\n",
            "tensor([ 9,  3, 10, 20, 10, 12,  7,  1, 25, 29, 17, 26,  1,  4, 18,  3, 33,  5,\n",
            "         4, 13,  5,  2,  1, 12, 31, 25, 12, 42,  4, 16, 38, 15],\n",
            "       device='cuda:0')\n",
            "labels:\n",
            "tensor([ 9,  3,  9, 24, 10, 12,  7,  1, 25, 29, 17, 26,  5,  1, 18,  3, 33,  2,\n",
            "         4, 13, 40,  1,  1, 12, 31, 25, 12, 42,  4, 16, 38, 15],\n",
            "       device='cuda:0')\n",
            "predicted:\n",
            "tensor([27,  4,  2, 23, 11, 40,  1, 12,  5, 13, 40, 21,  1, 13, 10,  9, 22,  5,\n",
            "         2, 10, 39, 14, 33,  5, 28, 25, 26, 38, 38, 36, 13,  9],\n",
            "       device='cuda:0')\n",
            "labels:\n",
            "tensor([27,  4,  2, 23, 11, 40,  1, 12, 30, 13, 40, 26,  2, 13, 33,  9, 22,  5,\n",
            "         2, 10, 39, 14, 36,  5, 28, 25, 26, 38, 38, 36, 13,  9],\n",
            "       device='cuda:0')\n",
            "predicted:\n",
            "tensor([ 9,  9, 12,  0,  9,  2, 10, 10, 23, 13,  1, 21, 25, 41,  5, 26, 11,  5,\n",
            "        25,  2, 21,  5, 10, 23,  2, 10, 13, 12,  4, 38, 12,  4],\n",
            "       device='cuda:0')\n",
            "labels:\n",
            "tensor([ 9,  9, 12,  0,  9,  2, 10, 10, 23, 13,  1, 21, 25, 41,  5, 26, 11,  5,\n",
            "        22,  2, 21,  5, 10, 23,  2, 18, 13, 12, 10, 38, 12,  4],\n",
            "       device='cuda:0')\n",
            "predicted:\n",
            "tensor([ 5, 29, 13, 27,  5,  3, 13, 13, 37,  5, 12, 32,  4, 13, 38,  2, 26,  9,\n",
            "        12,  4, 26,  1, 29, 10,  9, 28, 18, 10, 23, 22, 11, 35],\n",
            "       device='cuda:0')\n",
            "labels:\n",
            "tensor([ 5, 29, 13, 27,  5,  3, 13, 13, 37,  5, 12, 32,  4, 13, 38,  2, 26,  9,\n",
            "        12,  4, 26,  1, 29, 10,  9, 40, 18, 10, 23, 22, 31, 35],\n",
            "       device='cuda:0')\n",
            "predicted:\n",
            "tensor([11,  6, 35,  9, 12,  7, 38, 13, 10,  9, 13,  1, 22, 10, 39,  7, 39,  5,\n",
            "        10,  1, 12, 38, 38, 31, 33, 13, 25, 11,  3, 12, 17,  4],\n",
            "       device='cuda:0')\n",
            "labels:\n",
            "tensor([28,  6, 35,  9, 12,  7, 38, 13, 10,  9, 13,  1, 11,  9, 38,  7, 39,  2,\n",
            "        10,  1, 12, 38, 38, 25, 33, 26, 25, 11,  3, 12, 17,  2],\n",
            "       device='cuda:0')\n",
            "predicted:\n",
            "tensor([ 9,  4,  5, 22,  4, 18, 25, 14, 31, 25,  8, 11, 25, 26, 17,  5, 27,  4,\n",
            "        14,  1, 12, 11,  5, 23, 10,  8,  5, 10, 35, 40, 25, 10],\n",
            "       device='cuda:0')\n",
            "labels:\n",
            "tensor([ 9,  4,  2, 22,  3, 18, 25, 14, 31, 25,  8, 11, 25, 26, 17,  5, 27,  4,\n",
            "        14,  0, 12, 11,  2, 22,  5,  8,  7,  9, 35, 40, 25,  2],\n",
            "       device='cuda:0')\n",
            "predicted:\n",
            "tensor([ 7, 35, 28, 11, 18, 10, 11, 20, 28,  5,  8, 15,  8,  2, 27,  1, 12, 23,\n",
            "        38, 22,  2, 29, 10, 13, 40, 10,  5,  4,  3, 38,  7, 10],\n",
            "       device='cuda:0')\n",
            "labels:\n",
            "tensor([ 7, 35, 28, 11, 18, 10, 11, 20, 28,  9,  8, 15,  5,  2, 27,  1, 12, 23,\n",
            "        38, 22,  4, 29, 10, 13, 40, 10,  8,  7,  3, 38,  7, 10],\n",
            "       device='cuda:0')\n",
            "predicted:\n",
            "tensor([ 1,  2, 21, 12,  7,  3, 17,  1, 37, 25,  5, 13, 20, 28,  8,  3, 20,  1,\n",
            "        38, 31, 12, 39, 11,  2,  8,  8,  7, 33,  7, 11,  3,  5],\n",
            "       device='cuda:0')\n",
            "labels:\n",
            "tensor([ 1,  2, 21, 12,  7,  5, 17,  1, 37, 25,  6, 13, 20, 28,  8,  3, 20,  0,\n",
            "        38, 31, 12, 39, 11,  2,  8,  4,  7, 33,  7, 11,  3,  1],\n",
            "       device='cuda:0')\n",
            "predicted:\n",
            "tensor([ 5, 20,  7,  1,  3,  5, 10,  9,  3, 38,  8,  5, 21, 20, 13, 33, 11,  4,\n",
            "        16, 27, 13, 33,  8, 38,  8, 25,  4,  7, 13, 12, 38, 13],\n",
            "       device='cuda:0')\n",
            "labels:\n",
            "tensor([ 3, 20,  7,  1,  3,  5,  7,  9,  3, 38,  5,  5, 21, 31, 13, 33, 11,  4,\n",
            "        16, 18, 13, 33,  8, 38,  8, 25,  7,  7, 13, 12, 38, 13],\n",
            "       device='cuda:0')\n",
            "predicted:\n",
            "tensor([36, 37,  4, 25, 10, 17,  5,  7, 33,  3,  8, 12,  2,  4, 19,  6, 18,  7,\n",
            "        28, 23, 38,  5,  5,  2, 13, 38,  8, 12, 28,  8, 13, 13],\n",
            "       device='cuda:0')\n",
            "labels:\n",
            "tensor([36, 37,  4, 13, 10, 17,  5,  7, 34,  1,  8, 12,  2,  4, 19,  6, 18,  7,\n",
            "        25, 31, 18,  2,  5,  2, 13, 38,  8, 12, 28, 33, 13, 13],\n",
            "       device='cuda:0')\n",
            "predicted:\n",
            "tensor([ 2, 12, 29, 10, 25, 35, 37,  5,  5,  1, 26, 10, 35, 10,  3,  9, 12, 35,\n",
            "        20,  2, 16,  8,  5, 42,  5,  3, 25, 35, 14,  7, 12,  4],\n",
            "       device='cuda:0')\n",
            "labels:\n",
            "tensor([ 2, 12, 29, 10, 25, 35, 36,  5,  5,  1, 26, 10, 35, 38,  3,  9, 12, 34,\n",
            "        11,  2, 16,  8,  5, 42,  7,  3, 25, 35, 14,  8, 12,  4],\n",
            "       device='cuda:0')\n",
            "predicted:\n",
            "tensor([14,  7, 30,  7,  1, 15, 33, 13, 25,  4, 17, 12, 28, 10, 14, 31, 11,  9,\n",
            "         1, 35, 20, 15, 25,  1,  1, 17, 38,  1, 38, 22, 18, 12],\n",
            "       device='cuda:0')\n",
            "labels:\n",
            "tensor([14,  7, 30,  7,  1, 15, 33, 13, 25,  4, 17, 12, 28,  5, 14, 31, 11,  9,\n",
            "         2, 35, 30, 15, 25,  1,  1, 17, 38,  1, 37, 22, 12, 12],\n",
            "       device='cuda:0')\n",
            "predicted:\n",
            "tensor([ 4,  8, 10, 12, 35,  5, 18, 12, 35, 12,  4,  3, 25, 10,  1, 10, 39, 38,\n",
            "        14, 31,  5, 30,  2, 15, 12,  9,  8,  4, 14,  2, 35, 37],\n",
            "       device='cuda:0')\n",
            "labels:\n",
            "tensor([ 4, 25, 12, 12, 35,  1, 18, 12, 35, 12,  4,  3, 25, 10,  1, 10, 38, 38,\n",
            "        14, 25,  7, 30,  2, 15, 12,  9,  8,  4, 14,  2, 35, 37],\n",
            "       device='cuda:0')\n",
            "predicted:\n",
            "tensor([ 1, 30, 25, 23, 10, 18,  8,  5,  2, 16, 25, 29,  6, 23, 38, 26, 10, 28,\n",
            "        35,  1, 10,  2, 13, 19, 26, 13, 32,  4, 35,  5, 35, 12],\n",
            "       device='cuda:0')\n",
            "labels:\n",
            "tensor([ 1, 30, 25, 11,  6, 18, 13, 30,  2, 16, 28, 29,  6, 23, 38, 26, 10, 28,\n",
            "        35,  1, 10,  4, 13, 31, 26, 13, 32,  2, 35,  5, 35, 12],\n",
            "       device='cuda:0')\n",
            "predicted:\n",
            "tensor([10, 25,  8, 10, 15, 22,  1,  2, 36, 17, 13, 12, 40, 39, 33,  8, 15, 13,\n",
            "        23,  2, 17,  3,  1,  1, 25, 12, 25, 12,  5,  1,  8, 17],\n",
            "       device='cuda:0')\n",
            "labels:\n",
            "tensor([10, 25, 34,  6, 15, 22,  1,  4, 36, 17, 13, 12, 40, 39, 33,  8, 15, 13,\n",
            "        23,  3, 17,  2,  1,  1, 26, 12, 25, 12,  2,  1,  8, 17],\n",
            "       device='cuda:0')\n",
            "predicted:\n",
            "tensor([25, 13,  3,  4,  1, 17, 10,  5, 10,  8, 11, 38,  2, 19, 13, 34, 38, 38,\n",
            "         8, 17, 14, 10, 30,  8, 41,  1,  9, 33, 38, 12, 29,  4],\n",
            "       device='cuda:0')\n",
            "labels:\n",
            "tensor([25, 13,  2,  4,  1, 17, 16,  2, 10,  8, 11, 38,  2, 19, 13, 36, 38, 38,\n",
            "         3, 17, 14, 10, 30, 16, 41,  1,  9, 33, 38, 25, 29,  6],\n",
            "       device='cuda:0')\n",
            "predicted:\n",
            "tensor([ 2,  4, 15,  4,  3, 13, 38,  5,  3, 18,  8, 32,  1, 10, 38, 10,  8,  4,\n",
            "        25,  1, 31, 11, 25,  1,  7, 25, 32,  3, 39,  2,  5, 35],\n",
            "       device='cuda:0')\n",
            "labels:\n",
            "tensor([ 2, 10, 15,  4,  3, 13, 38,  5,  3, 18,  4, 32, 12, 10, 38, 10,  1,  4,\n",
            "        25,  1, 31, 11, 25,  1,  7, 25, 32,  5, 38,  2,  2, 35],\n",
            "       device='cuda:0')\n",
            "predicted:\n",
            "tensor([37,  7, 17,  1,  3,  7, 25, 31,  2, 15, 23, 14, 10,  1, 35, 12, 34, 35,\n",
            "        12,  1,  4, 20, 38,  4,  2, 11, 35, 38,  5, 31, 19,  7],\n",
            "       device='cuda:0')\n",
            "labels:\n",
            "tensor([37,  7, 17,  1,  3,  7, 26, 25,  2, 15, 13, 14, 10,  1, 35, 21, 34, 35,\n",
            "        12,  1,  4, 18, 38,  4,  2, 11, 35, 38,  8, 31, 19,  7],\n",
            "       device='cuda:0')\n",
            "predicted:\n",
            "tensor([17, 31,  5, 18,  5, 13,  5, 25, 38, 38, 13,  1,  8,  2,  4,  2,  9, 10,\n",
            "         7,  9, 18,  7,  4,  1, 12, 14, 31, 17,  1, 38,  5,  3],\n",
            "       device='cuda:0')\n",
            "labels:\n",
            "tensor([17, 31,  5, 18,  5, 13,  8, 25, 38, 38, 13,  6,  7,  4,  4,  2,  9, 10,\n",
            "         7, 10, 18,  7,  4,  5, 12, 14, 31, 17,  1, 38,  5,  3],\n",
            "       device='cuda:0')\n",
            "predicted:\n",
            "tensor([ 2, 12, 10, 33,  4, 13,  9, 12, 25, 41,  5, 10, 25, 17, 16,  8, 10,  8,\n",
            "        21, 10, 25, 38, 31, 11, 31,  1, 15, 18, 15, 21, 32, 40],\n",
            "       device='cuda:0')\n",
            "labels:\n",
            "tensor([ 2, 12, 10, 34,  4, 13,  9, 12, 25, 41,  2,  5, 25, 17, 16,  4, 10, 20,\n",
            "        25, 10, 25, 38, 31, 11, 31,  1, 15, 18, 15, 21, 32, 40],\n",
            "       device='cuda:0')\n",
            "predicted:\n",
            "tensor([ 2, 40,  1, 22, 26, 13,  8,  9, 25,  4, 18, 27,  9, 24,  4,  9,  1, 24,\n",
            "        25, 20,  2, 25, 18, 38,  5,  8, 10, 13,  8, 36,  7,  4],\n",
            "       device='cuda:0')\n",
            "labels:\n",
            "tensor([ 1, 40,  1, 22, 26, 13,  4,  9, 31,  4, 18, 27,  9, 24,  4,  9,  1, 24,\n",
            "        25, 20,  2, 25, 24, 38,  5,  8, 10, 13,  3, 36,  7,  2],\n",
            "       device='cuda:0')\n",
            "predicted:\n",
            "tensor([ 5, 38,  8, 13, 18, 21, 31, 19,  6,  8, 38,  8, 10, 31, 13, 38, 33, 38,\n",
            "         4, 31,  5, 24, 25,  8,  3, 33, 26, 18, 10, 35, 20,  2],\n",
            "       device='cuda:0')\n",
            "labels:\n",
            "tensor([ 5,  9,  8, 13, 18, 21, 31, 19,  6,  5, 38,  8, 10, 31, 13, 38, 33, 38,\n",
            "         4, 11,  2, 24, 25,  8,  3, 33, 27, 18, 10, 35, 31,  1],\n",
            "       device='cuda:0')\n",
            "predicted:\n",
            "tensor([ 4, 15, 10, 13,  2, 36,  4,  8,  6, 41,  4, 34,  3, 22, 10, 14, 38,  4,\n",
            "         7, 38,  5,  7, 17,  2, 12,  2, 38,  8,  4, 38, 17, 20],\n",
            "       device='cuda:0')\n",
            "labels:\n",
            "tensor([ 8, 15, 20, 13,  2, 36,  2,  8,  6, 41,  4, 34,  3, 22, 10, 14, 38,  4,\n",
            "         7, 38,  5,  8, 17,  2, 12,  2, 38,  7,  4, 38, 17, 26],\n",
            "       device='cuda:0')\n",
            "predicted:\n",
            "tensor([17, 31,  1, 14,  7, 36, 40, 34,  1,  5, 11, 22,  0, 40, 33,  4,  1,  1,\n",
            "         8, 12, 10, 29, 21, 31, 39, 21, 10, 25,  4, 35, 38, 23],\n",
            "       device='cuda:0')\n",
            "labels:\n",
            "tensor([17, 25,  1, 14,  7, 36, 40, 34,  1,  5, 11, 22,  0, 40, 33,  4,  1,  1,\n",
            "         8, 12, 10, 29, 11, 31, 39, 21, 28, 25, 10, 35, 38, 23],\n",
            "       device='cuda:0')\n",
            "predicted:\n",
            "tensor([14, 13, 12,  5, 12, 10, 41, 17, 13, 39,  8, 21,  8, 11,  4,  5, 17, 35,\n",
            "         5,  0, 38, 39, 38, 25, 12,  3, 38, 23, 31,  8,  4,  5],\n",
            "       device='cuda:0')\n",
            "labels:\n",
            "tensor([14, 13, 12,  3, 12,  4, 41, 17, 13, 39, 34, 23,  8, 11,  2,  3, 17, 35,\n",
            "         5,  0, 38, 39, 38, 25, 12,  3, 38, 23, 31,  7,  4,  1],\n",
            "       device='cuda:0')\n",
            "predicted:\n",
            "tensor([19,  1,  2, 11, 13, 38, 13, 42, 10,  1,  2, 15, 35, 41,  4,  7,  1,  9,\n",
            "        13, 13, 18, 13,  4,  4, 23, 22, 31,  2, 25,  2,  8,  2],\n",
            "       device='cuda:0')\n",
            "labels:\n",
            "tensor([31,  1,  2, 31, 13, 38, 13, 38, 10,  2,  2, 15, 35, 41,  4,  7,  1,  9,\n",
            "        13, 13, 18, 13,  4,  2, 23, 31, 31,  2, 28,  1,  8,  2],\n",
            "       device='cuda:0')\n",
            "predicted:\n",
            "tensor([10,  8, 34, 22, 12, 33, 25,  8, 27, 13, 26, 12, 14, 10, 13, 12, 31,  8,\n",
            "        12, 10, 38], device='cuda:0')\n",
            "labels:\n",
            "tensor([10,  8, 34, 22, 12, 33, 11,  8, 27, 13, 26, 12, 14, 10, 13, 12, 31, 18,\n",
            "        12,  9, 38], device='cuda:0')\n",
            "Accuracy: 0.8185524344444275\n"
          ]
        }
      ]
    },
    {
      "cell_type": "markdown",
      "source": [
        "## Prediction of one image"
      ],
      "metadata": {
        "id": "TeAb-GuclrKP"
      }
    },
    {
      "cell_type": "code",
      "source": [
        "X_test.head()"
      ],
      "metadata": {
        "colab": {
          "base_uri": "https://localhost:8080/"
        },
        "id": "KLytoOBWjiyL",
        "outputId": "580b9391-c1b3-47c7-e69a-98d5c5c4173d"
      },
      "execution_count": 32,
      "outputs": [
        {
          "output_type": "execute_result",
          "data": {
            "text/plain": [
              "18161    /content/Train/11/00011_00037_00011.png\n",
              "30884    /content/Train/28/00028_00002_00014.png\n",
              "35645    /content/Train/36/00036_00008_00006.png\n",
              "8289      /content/Train/4/00004_00061_00009.png\n",
              "33517    /content/Train/33/00033_00014_00007.png\n",
              "Name: Path, dtype: object"
            ]
          },
          "metadata": {},
          "execution_count": 32
        }
      ]
    },
    {
      "cell_type": "code",
      "source": [
        "X_test.iloc[0]"
      ],
      "metadata": {
        "colab": {
          "base_uri": "https://localhost:8080/",
          "height": 35
        },
        "id": "4KpZx8YEVPBP",
        "outputId": "bad129e5-b97e-4183-b884-80aadee55e38"
      },
      "execution_count": 33,
      "outputs": [
        {
          "output_type": "execute_result",
          "data": {
            "text/plain": [
              "'/content/Train/11/00011_00037_00011.png'"
            ],
            "application/vnd.google.colaboratory.intrinsic+json": {
              "type": "string"
            }
          },
          "metadata": {},
          "execution_count": 33
        }
      ]
    },
    {
      "cell_type": "code",
      "source": [
        "pred_index = X_test.loc[X_test == X_test.iloc[0]].index.values"
      ],
      "metadata": {
        "id": "ktanEUSOW5n3"
      },
      "execution_count": 34,
      "outputs": []
    },
    {
      "cell_type": "code",
      "source": [
        "pred_index = pred_index[0].astype(int)"
      ],
      "metadata": {
        "id": "jnhCzMwAVvN1"
      },
      "execution_count": 35,
      "outputs": []
    },
    {
      "cell_type": "code",
      "source": [
        "pred_index"
      ],
      "metadata": {
        "colab": {
          "base_uri": "https://localhost:8080/"
        },
        "id": "JJ7YFIJqX90h",
        "outputId": "c72bfd8a-676b-4e68-831e-fda7e35ad7ea"
      },
      "execution_count": 36,
      "outputs": [
        {
          "output_type": "execute_result",
          "data": {
            "text/plain": [
              "18161"
            ]
          },
          "metadata": {},
          "execution_count": 36
        }
      ]
    },
    {
      "cell_type": "code",
      "source": [
        "def loading_img(idx):\n",
        "    class_id = y[idx]\n",
        "    img = Image.open(X[idx])\n",
        "    img = test_transform(img)\n",
        "    return img, torch.tensor(int(class_id))"
      ],
      "metadata": {
        "id": "tuaxoYAUSAkh"
      },
      "execution_count": 37,
      "outputs": []
    },
    {
      "cell_type": "code",
      "source": [
        "img, class_pred = loading_img(pred_index)"
      ],
      "metadata": {
        "id": "cO_KyHthRj2f"
      },
      "execution_count": 38,
      "outputs": []
    },
    {
      "cell_type": "code",
      "source": [
        "def predict_image(img, model):\n",
        "    # Convert to a batch of 1\n",
        "    xb = to_device(img.unsqueeze(0), device)\n",
        "    # Get predictions from model\n",
        "    yb = model(xb)\n",
        "    # Pick index with highest probability\n",
        "    _, preds  = torch.max(yb, dim=1)\n",
        "    # Retrieve the class label\n",
        "    return preds.item()"
      ],
      "metadata": {
        "id": "LdfhweedULBA"
      },
      "execution_count": 39,
      "outputs": []
    },
    {
      "cell_type": "code",
      "source": [
        "def to_device(data, device):\n",
        "    \"\"\"Move tensor(s) to chosen device\"\"\"\n",
        "    if isinstance(data, (list,tuple)):\n",
        "        return [to_device(x, device) for x in data]\n",
        "    return data.to(device, non_blocking=True)"
      ],
      "metadata": {
        "id": "C_QNg7V86gPe"
      },
      "execution_count": 40,
      "outputs": []
    },
    {
      "cell_type": "code",
      "source": [
        "from IPython.display import HTML\n",
        "from base64 import b64encode\n",
        "\n",
        "def show_image(path_to_image, width=None, height=None):\n",
        "\n",
        "    mime_type = None\n",
        "    path_to_image = path_to_image.lower()\n",
        "\n",
        "    # More MIME types:\n",
        "    # https://developer.mozilla.org/en-US/docs/Web/HTTP/Basics_of_HTTP/MIME_types\n",
        "    if path_to_image.endswith('.jpg') or path_to_image.endswith('.jpeg'):\n",
        "        mime_type = 'image/jpeg'\n",
        "    elif path_to_image.endswith('.png'):\n",
        "        mime_type = 'image/png'\n",
        "    elif path_to_image.endswith('.gif'):\n",
        "        mime_type = 'image/gif'\n",
        "    else:\n",
        "        raise ValueError('Unknown extension: %s' % (path_to_image))\n",
        "\n",
        "    img = open(path_to_image, 'rb').read()\n",
        "    data_url = 'data:image/jpeg;base64,' + b64encode(img).decode()\n",
        "\n",
        "    width_str = \"width='%d'\" % (width) if width is not None else ''\n",
        "    height_str = \"height='%d'\" % (width) if height is not None else ''\n",
        "\n",
        "    display(HTML(\"<img src='%s' %s%s>\" % (data_url, width_str, height_str)))"
      ],
      "metadata": {
        "id": "56WInAKalcq_"
      },
      "execution_count": 41,
      "outputs": []
    },
    {
      "cell_type": "code",
      "source": [
        "show_image(X[pred_index], width = 300)"
      ],
      "metadata": {
        "colab": {
          "base_uri": "https://localhost:8080/",
          "height": 338
        },
        "id": "QyCy9C90lDC4",
        "outputId": "36a5c522-9c6a-4797-e3a6-40d6dc02fc4d"
      },
      "execution_count": 42,
      "outputs": [
        {
          "output_type": "display_data",
          "data": {
            "text/plain": [
              "<IPython.core.display.HTML object>"
            ],
            "text/html": [
              "<img src='data:image/jpeg;base64,iVBORw0KGgoAAAANSUhEUgAAACQAAAAmCAIAAAAjqq7EAAANw0lEQVRYCSXBeWzW530A8Of7/K73/b3369c3NrbBxjbG5nAwjsHcECAXoYQAIeSokjT9o1OlrZu0aZrU9a9JVdf9MWlStU2a1CntpqTNQZJBDhLIwRWucBvb+Hr9Xr/7uUfazwfGt2yhocdJ6JLQSmfiWItruheGXuAjKRTnhmnU17fu2rCJlWauzU9OOCFgs7mlSSpec11GCKNEMMoZE5wRwhnhGPRCW+ehl37Y0Ni6Y+eYDSiOkEQIdj62RwVVCAOHUT2Z1nVDKhWGoee5glFQEjRcKOS72lpSVmxifqHoRqZpt7Y0Mslqng+UIRJpular1QhnbsgIEbFYsrGp7eVXXm5qbR3bPEoFAh0BQrBjzx6bRAkaVFggYgmIJRxCOKW1SolTAkphXY/Z8XgizhUCBFKIVMJOJexYMlnzwxiXGayQhqqOV/LDRTcIQqoZVndbx2Nbd27ctnvt6GCREF/XLF2HA/v2Ccp1RASKQqaEZoWcM8Yq5UXBqeBC041EKgWapgBHlGmGaq5LtRQaIJ6YLJbjCufjBmeBYGih4i5Uan5IhELt7e0vvfRG1/LBDWP9Ho18LpJ2Al575plSSKokqM+lgpoTchEJKaSs1sqUBFJIhSCesBUgwkTEhR6Pt2Sz6/oGeDx5b3HOXZxLWXohbYc1v+L4c8VSSBiTqNC65NDxV/t7hx4ZXmVoSMNIwwh+fPjIoh/OO46p65YOTHKuICLUcSs0dCUXQkorZhHJiUQIMAJrtGfg0Z7+wLDvl6fuTH3nkFBXXFfg+aHnRxFhUkG2sfm54z/s7RlYt3atAKw0ZGkIfnL8aI2iku/qOiaEcMEZF1xI13eo7wDnjHOFEAEQhokRymcbNnetaCS0fXB1iXsfXfjybq0culUssZKYMS64QArShfojL72+rKt37NGRUkArkY9IAH//6jGHGQ4LPeKHlEWEEkL9MPSjENEIMUY5w7opNV3qWs7Qe5qXJn2a8t3W/r7ekeH3Lnx96tplHnmRSxQyEYAQHEBL5gtHX/5RR1f/xvHhUiksl4u2geHvjj5dpeBL4UvuMsG58Dyv5rlUcEMKRWjEmG7ZeswWIDvtWF8uF83MNhp6YGgDY9sWrNTb58+U5yeDmo+wyaUQUkqE04X6oy+91r6sf8P4iDNXM3goeQBHdo86IXNCQhViCpQChCTjlHEuOVdChYTG4klsxrGlDdfnlulIVhZkpYwb6qFhRa57/fn7V6/fujhfriqJAEAqKSRKFeqPvvx67/L+bZtHaYAKWQQIwVB/B2BTIaXQQ4AQZDKZVDLhOs5CqUQYjyISi8eT2YzSY7uWdmbm7ojag6xuL+hxq7OvsauvTPwPzn42Ua7QMNIAMAalcDxXd/jl14dXDD65dT3S0J/B+tX9EnTQQCqOsAYYJ1LphkxGBMHNe/fcMBJCaDrk0nY22dibbtLmrvb1N65cOXL1xoNrN2909q3o6Ft58sq1ExcuhL4nGTMMA8DIZAsvvvjqwIrB3Tsf4QgRhBRCMD6yiiMQgCUA6JpmaMlMZkkmXb4/NTlfLHk+ADYMvc4y2/ONSYW7CjmrkBsa2+JNzt75+vNirTiw9lGvrvXfT52Ynb4nOcdYA9Cacvm923Zv3rZ75eCKZFOdh6REEnaNDxGlGNIiCURxpThSoiWT4k5QrLhuEAHWrJjdkUyv72ifnZxImvnxfYd61q1xpqe+/ez9iXtXGuuXZfs2fPzduYvfnauEkZRK07RsJn306AvtHcvblrbE0vbM4nwmk4AndgwThPQEyrVk23tXvPPWW5EPEGkak5zLiFCEtZidX1PX0m2qYmlm1dDYxr2HWNwqxK3zn71/7vSJlJ7oGh6d8qrvfPnFPcejhGKM7Vxu/3PPNzW3Le1o8r1FxjTBMBzcu8GwrEw22rR95fiOXb/653/58KNrjOQZoVIIxjjGWiLZvKFxeb4yxWN8fM+zdd1rQ9uyGbFZ9cyJ/5m+dqW1t6e1d+C9i5dPXb8R+iFSKpHLP/PcsdaWpS3NqbnSxFwJ+a4JP9j9SF0maeGZX/76r7ER/79Pv/inX/1+et6gCjhlkgtd01pblw2n69Nz0yKfHnvqWVFY8u65L3vrc8uyGTo3d+OLU0W3uGJoQzVd/+aXn89MT0guUrn8geeOtbd21OfT8bq0I0yQFrx+aCeYquRcfvrJocPPv/L7N9/67e++mlmIVbyQES44z1vW2p4+Va7GI9Y/Nt69fvSj85f++MXHA52t4+s2tVv5u1+8Pz19PZdtS3avPXv/2sXr35T8KJnNHzz8Qm9nz8b1o1Yya6WQW+Pwk8M7ecK6tXDbxu6BfU+fu3D55u0FibPFqufUfMFFVyKxpmXJ5MzcmkfGetdvchH/1//6j4nyIlZiy6adR8Z3BzfOf/PZ+3GltwyunWXRO2dOT3qhZScPPndsbe+qPZvH0xkD/Qn86PldQsez5RplwvNDUICUMEy9uOgQqoRCo61LOrA+X631rBoZ3rrvXmny3377mzsLi5ZhDq0afvHxA0ssce7UuxPfXmju6WruWXni0rVPbtzWzdgzB48M9Q4eemobRgjQ9+DY4e2GrteqzmIQLgaUBTRhGrZl+G7gE67Hcnu7h+wHN33lju14on1g+OTXZ373wbtTVUcD3L287/iBw9ivpFlw88wns6XZ3sHRcqrxf8+drbmV3Xv3r18z+oOntugI6eh78MqhrVIzyo5TDYIHxRooA5RKJ2xBGWasPt2RYeksn+webu15ZNNMyf/m8tWz316ZrTlYN7J1jf3ty/qXtm0ZWHn7zKm7d65k0+35Zeuuzd46f//awPjuR9aMHTm0y0TIQEgiBH/54s7FMCj6oeuHjkddj0qFkzFbQzKneJORixm55Z3Nyc7m+v6hkydPT03duz014XEaCt7U3ru6e/XaFZ0bV3SVv7t0+sM/WMLo6V/zYG768/mZ+MC6R0c2H9i/p5AyLYQ4QvAPb+wNQdwvVoyIJ5Vxa9G5U3I1bMVieFUhPVhovX13OpNrGd9/xGxeMnN/OnLm/vPt/16kgZW2Y5mOPeNPjQwsKxjcCitn33/r7rlzDS0tQ+tG3r5+8y6ObRgeO3Tg8c6WOguhKkHw8zf2JepzD8pevOwmKv75ivfVQpVLLZvPjzQ2tnE2W14cGd+9dvsTUSyW1vVvPvngzU8/bFi1GlkJX1iPbdrd1ZixhK/TYO7S+asnTzyYn+4f3Fip7/545k7vstadW7ZvH1tjITTrU/jFj59E6fjliVnkECNgt0rOfScywGxuWDJY36rN3zMzxuMHjzcsH1LJuCDBwoOJt9/7w9MHX5z04b4fDiztGljahJjHwii4dfvWqT9ev/pVKrnCTfd56UAmvJ7hbXs2P9nThnyO4OevP8uS9qXJqanJqTCgXkCpEHEEHY3t/Y1tDZoKNbT34PP5JcuIhgmjD2bv3Dz36fjq7bk1O2csrdHSMogrJIqLxeRicfKT985+8i7QeEv/6CKr3mJVo3vomV37V3d31RcM+KtXX6hRPltZqNYWa47vhSQgfnch01PfZnk8ScXQ1u2DW3cgK4Fj8ZrrO+5kR6PZ1bRuwklPOrNZS+QsKwoCEnqW58S8hQunT1z8/MtES1vn6jUXHeeyS0fWje3d9XhDoQWe3jcO2AgjPyChH9GAsJCyVqyPtHXQueISO7njheNOIhVLZriSUgnOAywCE9IIZ12/QoMq4hy4kFEgo9BZnHWm7pTu3vN1vXNoXbWu4eTEhJ1KrVs/Nv7oZvjxsX1CApfSJ8QnbK5UrkWo186tTNruzIP2bLa1ty/UTSGRVJTQgFChuFJCMMYZp5JTyYXiQnGmhJBCyChEJBAxI1bXYvYMfnjrMlWhnSmsXrUGfvmz17L5XBBFHomm50tX7k4uuGJD/dIGpxiWZ1O6peuGUggQAJIIpFSAECilkFKAkEJKCKmkxKAkIK4UV0oBohjFswVY2vXelUslr2amM3WZLLz5638kwCmGwHUCl56+cHWqTDv1XNad0XHAiADNwroewxDDWGJQGBOEKEIaxrqmCymlUggpAEU5YVxIBBIhiUFh7ABcnZ6hUlHJM9k0/OYXfxuZ1lQtsDjKaOqbm1dvzCy2mYl4raTHdYF1iXU9Fs/HbFopm0l7emGexUwPaYA0JaVQiFASUUoZ5ZxIqaRCXEolhZRKSink9xRCyDTgZ3/zU6YlJuYcG9mdTbGLVz4vVitxRm2uqEBUCKVh0GOZWCIXt6qhP18tIawEMgkDyhiljFIqHpJcSq4UAsAIkJRCKQSgASilpFIIDAOeeOMvsJZzPD8oVweW19/+7iu3sgA8REwxjoRUTErTTmUTaU3JSMlK6KvQT5m2ZtlOGJIoYpRyxjh7iAJgDWP0PaUQAAKElJQSIQQYw7ZjP1VQp4BmTJUxo/t3L5WKk7YpQGokElFEFGCFDV0zdN0AjLGGAclsJheEkeN5lERSCBJFgnEhJBfC0HUMIB6SChACAPmQUgAYNux/xYwVal4JBZXOpmSlNOl7JUPjUkDoEU65kGDGTCMeU5ph66aFldQQmDaJuOs4jFJKCCNUCaEUkkoBQlLIP1F/hhBSCHRNg76NjyNkAorSMUjHpESBH7kWFsBUENAgoFyAbiA7ZTGlpeIpHQQ2AZvJ0Gee65GHIsIZV0IopYSQSj6kpFQPIaUQAiEVegjw/wNm+DMbyv8/gQAAAABJRU5ErkJggg==' width='300'>"
            ]
          },
          "metadata": {}
        }
      ]
    },
    {
      "cell_type": "code",
      "source": [
        "print('Label:', class_pred, ', Predicted:', predict_image(img, model_ft))"
      ],
      "metadata": {
        "colab": {
          "base_uri": "https://localhost:8080/"
        },
        "outputId": "4d9a8133-9f56-4b3c-8191-159812699d4a",
        "id": "aT5lRpsWULBB"
      },
      "execution_count": 43,
      "outputs": [
        {
          "output_type": "stream",
          "name": "stdout",
          "text": [
            "Label: tensor(11) , Predicted: 11\n"
          ]
        }
      ]
    },
    {
      "cell_type": "code",
      "source": [
        "classes_names"
      ],
      "metadata": {
        "colab": {
          "base_uri": "https://localhost:8080/"
        },
        "id": "_9faLLYgmie2",
        "outputId": "3eea8bd4-8953-47e1-d27d-9c48a62d21bb"
      },
      "execution_count": 44,
      "outputs": [
        {
          "output_type": "execute_result",
          "data": {
            "text/plain": [
              "{0: 'Speed limit (20km/h)',\n",
              " 1: 'Speed limit (30km/h)',\n",
              " 2: 'Speed limit (50km/h)',\n",
              " 3: 'Speed limit (60km/h)',\n",
              " 4: 'Speed limit (70km/h)',\n",
              " 5: 'Speed limit (80km/h)',\n",
              " 6: 'End of speed limit (80km/h)',\n",
              " 7: 'Speed limit (100km/h)',\n",
              " 8: 'Speed limit (120km/h)',\n",
              " 9: 'No passing',\n",
              " 10: 'No passing veh over 3.5 tons',\n",
              " 11: 'Right-of-way at intersection',\n",
              " 12: 'Priority road',\n",
              " 13: 'Yield',\n",
              " 14: 'Stop',\n",
              " 15: 'No vehicles',\n",
              " 16: 'Veh > 3.5 tons prohibited',\n",
              " 17: 'No entry',\n",
              " 18: 'General caution',\n",
              " 19: 'Dangerous curve left',\n",
              " 20: 'Dangerous curve right',\n",
              " 21: 'Double curve',\n",
              " 22: 'Bumpy road',\n",
              " 23: 'Slippery road',\n",
              " 24: 'Road narrows on the right',\n",
              " 25: 'Road work',\n",
              " 26: 'Traffic signals',\n",
              " 27: 'Pedestrians',\n",
              " 28: 'Children crossing',\n",
              " 29: 'Bicycles crossing',\n",
              " 30: 'Beware of ice/snow',\n",
              " 31: 'Wild animals crossing',\n",
              " 32: 'End speed + passing limits',\n",
              " 33: 'Turn right ahead',\n",
              " 34: 'Turn left ahead',\n",
              " 35: 'Ahead only',\n",
              " 36: 'Go straight or right',\n",
              " 37: 'Go straight or left',\n",
              " 38: 'Keep right',\n",
              " 39: 'Keep left',\n",
              " 40: 'Roundabout mandatory',\n",
              " 41: 'End of no passing',\n",
              " 42: 'End no passing veh > 3.5 tons'}"
            ]
          },
          "metadata": {},
          "execution_count": 44
        }
      ]
    },
    {
      "cell_type": "code",
      "source": [],
      "metadata": {
        "id": "Phb_XbnYOgvC"
      },
      "execution_count": null,
      "outputs": []
    },
    {
      "cell_type": "code",
      "source": [],
      "metadata": {
        "id": "k3eUbpVlgP-Q"
      },
      "execution_count": null,
      "outputs": []
    },
    {
      "cell_type": "markdown",
      "source": [
        "Data are from https://www.kaggle.com/datasets/meowmeowmeowmeowmeow/gtsrb-german-traffic-sign"
      ],
      "metadata": {
        "id": "q3bKsXBrIQ0D"
      }
    }
  ]
}