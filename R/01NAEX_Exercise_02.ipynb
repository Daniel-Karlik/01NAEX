{
  "nbformat": 4,
  "nbformat_minor": 0,
  "metadata": {
    "colab": {
      "private_outputs": true,
      "provenance": [],
      "collapsed_sections": [],
      "authorship_tag": "ABX9TyNFCinHhfOBYmwZksFaUk3G",
      "include_colab_link": true
    },
    "kernelspec": {
      "name": "ir",
      "display_name": "R"
    },
    "language_info": {
      "name": "R"
    }
  },
  "cells": [
    {
      "cell_type": "markdown",
      "metadata": {
        "id": "view-in-github",
        "colab_type": "text"
      },
      "source": [
        "<a href=\"https://colab.research.google.com/github/francji1/01NAEX/blob/main/R/01NAEX_Exercise_02.ipynb\" target=\"_parent\"><img src=\"https://colab.research.google.com/assets/colab-badge.svg\" alt=\"Open In Colab\"/></a>"
      ]
    },
    {
      "cell_type": "code",
      "execution_count": null,
      "metadata": {
        "id": "7sMlU_X1sc8x"
      },
      "outputs": [],
      "source": []
    },
    {
      "cell_type": "markdown",
      "source": [
        "# 01NAEX - Exercise 02\n",
        "Data and exercises come from D.C. Montgomery: Design and Analysis of Experiment [text odkazu](https://)- Chapter 02\n"
      ],
      "metadata": {
        "id": "IJZpZoupsfsX"
      }
    },
    {
      "cell_type": "markdown",
      "source": [
        "Get requirements:\n"
      ],
      "metadata": {
        "id": "pd9dWycysgCh"
      }
    },
    {
      "cell_type": "code",
      "source": [
        "list_of_packages <- c(\"tidyverse\", \"nortest\",\"lattice\",\"pwr\",\"MASS\",\"agricolae\")\n",
        "missing_packages <- list_of_packages[!(list_of_packages %in% installed.packages()[,\"Package\"])]\n",
        "missing_packages\n"
      ],
      "metadata": {
        "id": "OXxvZtMIsgVb"
      },
      "execution_count": null,
      "outputs": []
    },
    {
      "cell_type": "code",
      "source": [
        "# If you need to check your settings\n",
        "\n",
        "#getwd()\n",
        "#print(.libPaths())\n",
        "#print(sessionInfo())\n",
        "#print(version)"
      ],
      "metadata": {
        "id": "1CZG5KMctI6K"
      },
      "execution_count": null,
      "outputs": []
    },
    {
      "cell_type": "markdown",
      "source": [
        "If you install agricolae package on Google colab, it takes a long time ... It installs some extra packages and it can cause problems. Be patient."
      ],
      "metadata": {
        "id": "V77XOX1-wyi3"
      }
    },
    {
      "cell_type": "code",
      "source": [
        "if(length(missing_packages)) install.packages(missing_packages)\n",
        "lapply(list_of_packages, library, character.only = TRUE)"
      ],
      "metadata": {
        "id": "j9MSUk8Is6Lp"
      },
      "execution_count": null,
      "outputs": []
    },
    {
      "cell_type": "markdown",
      "source": [
        "## Assigment:\n",
        "\n",
        "*  Do exercise 3.7, 3.8, 3.9, and 3.10.\n",
        "* Use the R to create and analyze given designs.\n",
        "\n",
        "Data and exercises come from D.C. Montgomery: Design and Analysis of Experiment.\\\n"
      ],
      "metadata": {
        "id": "7SzDDewJ0Gps"
      }
    },
    {
      "cell_type": "markdown",
      "source": [
        "### Exercises 3.07\n",
        "\n",
        "The tensile strength of Portland cement is being studied. Four different mixing techniques can be used economically. A completely randomized experiment was conducted\tand the following data were collected:\n",
        "\t\n",
        "| Mixing | Technique Tensile Strength (lb/in2)||||\n",
        "|--------------------------------------------|||||\n",
        "| 1      |  3129  |  3000  |  2865  |  2890  |\n",
        "| 2      |  3200  |  3300  |  2975  |  3150  |\n",
        "| 3      |  2800  |  2900  |  2985  |  3050  |\n",
        "| 4      |  2600  |  2700  |  2600  |  2765  |\n",
        "\n",
        "* Construct a graphical display to compare the mean tensile strengths for the\n",
        "four mixing techniques. What are your conclusions?\n",
        "* Test the hypothesis that mixing techniques affect the\n",
        "strength of the cement. Use  $\\alpha = 0.05$.\n",
        "* Use the Fisher LSD method with  $\\alpha = 0.05$ to make\n",
        "comparisons between pairs of means.\n",
        "*  Construct a normal probability plot of the residuals.\n",
        "What conclusion would you draw about the validity of\n",
        "the normality assumption?\n",
        "*  Plot the residuals versus the predicted tensile strength. Comment on the plot.\n",
        "* Prepare a scatter plot of the results to aid the interpretation of the results of this experiment."
      ],
      "metadata": {
        "id": "zvHL1CwW0VKS"
      }
    },
    {
      "cell_type": "code",
      "source": [
        "Ex03_7 <- read.table(\"https://raw.githubusercontent.com/francji1/01NAEX/main/data/Ex03_7.csv\",header=TRUE,sep=\";\")\n",
        "head(Ex03_7)\n"
      ],
      "metadata": {
        "id": "tQr4UVuXtrC_"
      },
      "execution_count": null,
      "outputs": []
    },
    {
      "cell_type": "markdown",
      "source": [
        "\n",
        "### Exercises 3.08 and 3.09 \n",
        "\n",
        "Reconsider the experiment in Problem 3.07. \n",
        "\n",
        "* Rework part (3) of Problem 3.07 using Tukey’s test\twith \t$\\alpha = 0.05$. Do you get the same conclusions from Tukey’s test that you did from the graphical procedure and/or the Fisher LSD method?\n",
        "* Explain the difference between the Tukey and Fisher procedures.\n",
        "*Find a 95percent confidence interval on the mean tensile strength of the Portland cement produced by each of the four mixing techniques. Also find a 95 percent confidence interval on the difference in means for techniques 1 and 3. Does this aid you in interpreting the results of the experiment?"
      ],
      "metadata": {
        "id": "Ylfv4-d_3SEl"
      }
    },
    {
      "cell_type": "code",
      "source": [],
      "metadata": {
        "id": "YtM7AlkJ0UF_"
      },
      "execution_count": null,
      "outputs": []
    },
    {
      "cell_type": "code",
      "source": [],
      "metadata": {
        "id": "uUrplt0Q0F20"
      },
      "execution_count": null,
      "outputs": []
    },
    {
      "cell_type": "markdown",
      "source": [
        "### Exercises 3.10\n",
        "\n",
        "A product developer is investigating the tensile strength\n",
        "of a new synthetic fiber that will be used to make cloth for\n",
        "men’s shirts. Strength is usually affected by the percentage of\n",
        "cotton used in the blend of materials for the fiber. The engineer\n",
        "conducts a completely randomized experiment with five levels\n",
        "of cotton content and replicates the experiment five times.\n",
        "\n",
        "\n",
        "* Is there evidence to support the claim that cotton content\n",
        "affects the mean tensile strength? Use $\\alpha = 0.05$.\n",
        "* Use the Fisher LSD method to make comparisons\n",
        "between the pairs of means. What conclusions can you\n",
        "draw?\n",
        "* Analyze the residuals from this experiment and comment\n",
        "on model adequacy.\n"
      ],
      "metadata": {
        "id": "CU8aDa_V3y_1"
      }
    },
    {
      "cell_type": "code",
      "source": [
        "Ex03_10 <- read.table(\"https://raw.githubusercontent.com/francji1/01NAEX/main/data/Ex03_10.csv\",header=TRUE,sep=\";\")\n",
        "head(Ex03_10)"
      ],
      "metadata": {
        "id": "OPmTG8WruIYf"
      },
      "execution_count": null,
      "outputs": []
    },
    {
      "cell_type": "markdown",
      "source": [
        "Solution:"
      ],
      "metadata": {
        "id": "rvOPQRe_65uE"
      }
    },
    {
      "cell_type": "code",
      "source": [
        "# Hint to LSD from agricoale package:\n",
        "Ex03_7$Technique <- as.factor(Ex03_7$Technique)\n",
        "model<-aov(Tensile_Strength~Technique, data=Ex03_7)\n"
      ],
      "metadata": {
        "id": "Awly7_6VsgY3"
      },
      "execution_count": null,
      "outputs": []
    },
    {
      "cell_type": "code",
      "source": [
        "summary(Ex03_7)"
      ],
      "metadata": {
        "id": "wogoOEXhyFAI"
      },
      "execution_count": null,
      "outputs": []
    },
    {
      "cell_type": "code",
      "source": [
        "summary(model)"
      ],
      "metadata": {
        "id": "3kxSTlEdyQVN"
      },
      "execution_count": null,
      "outputs": []
    },
    {
      "cell_type": "code",
      "source": [
        "? LSD.test"
      ],
      "metadata": {
        "id": "vLIMpDDr9nUL"
      },
      "execution_count": null,
      "outputs": []
    },
    {
      "cell_type": "code",
      "source": [
        "out1<-LSD.test(model,\"Technique\",p.adj=\"hommel\",console=TRUE)\n",
        "plot(out1,variation=\"SD\") # variation standard deviation"
      ],
      "metadata": {
        "id": "EwAP_zC17CO0"
      },
      "execution_count": null,
      "outputs": []
    },
    {
      "cell_type": "code",
      "source": [
        "out2<-LSD.test(model,\"Technique\",p.adj=\"bonferroni\",console=TRUE)\n",
        "plot(out2,variation=\"SD\") # variation standard deviation"
      ],
      "metadata": {
        "id": "dWWt3quU7Cuh"
      },
      "execution_count": null,
      "outputs": []
    },
    {
      "cell_type": "code",
      "source": [],
      "metadata": {
        "id": "m8j_Yx6q9dpu"
      },
      "execution_count": null,
      "outputs": []
    }
  ]
}